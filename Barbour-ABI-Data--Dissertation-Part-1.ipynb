{
 "cells": [
  {
   "cell_type": "markdown",
   "id": "85b55289",
   "metadata": {},
   "source": [
    "# Dissertation Analysis Part 1"
   ]
  },
  {
   "cell_type": "markdown",
   "id": "4dfad4ca",
   "metadata": {},
   "source": [
    "This notebook spatially joins the infrastructure data with the LSOA and Datazone shapefiles, scales the values to account for inflation, and sums the values by the bespoke categories discussed in the report.\n",
    "  \n",
    "  \n",
    "  The dataframes are exported at the end of this for use in parts 2 and 3."
   ]
  },
  {
   "cell_type": "markdown",
   "id": "568c8de5",
   "metadata": {},
   "source": [
    "### Importing Packages and Defining Functions"
   ]
  },
  {
   "cell_type": "code",
   "execution_count": 1,
   "id": "f2c33053",
   "metadata": {
    "scrolled": true
   },
   "outputs": [
    {
     "name": "stderr",
     "output_type": "stream",
     "text": [
      "C:\\Users\\Yasmine Hujair\\anaconda32020\\envs\\Dissertation\\lib\\site-packages\\pysal\\__init__.py:65: VisibleDeprecationWarning: PySAL's API will be changed on 2018-12-31. The last release made with this API is version 1.14.4. A preview of the next API version is provided in the `pysalnext` package. The API changes and a guide on how to change imports is provided at https://migrating.pysal.org\n",
      "  ), VisibleDeprecationWarning)\n"
     ]
    }
   ],
   "source": [
    "import numpy as np\n",
    "import pandas as pd\n",
    "import geopandas as gpd\n",
    "import seaborn as sns\n",
    "import matplotlib.pyplot as plt\n",
    "import matplotlib.cm as cm\n",
    "import matplotlib as mpl\n",
    "import re\n",
    "import os\n",
    "from shapely.geometry import Point\n",
    "from geopandas import datasets, GeoDataFrame, read_file\n",
    "from geopandas.tools import overlay\n",
    "import datetime\n",
    "import pysal as ps\n",
    "from pysal.contrib.viz import mapping as maps\n",
    "import mapclassify.classifiers as classifiers\n",
    "\n",
    "\n",
    "import sklearn\n",
    "from sklearn.neighbors import NearestNeighbors\n",
    "from sklearn.manifold import TSNE\n",
    "from sklearn.decomposition import PCA\n",
    "from sklearn.preprocessing import PowerTransformer, RobustScaler, StandardScaler, MinMaxScaler\n",
    "from sklearn.cluster import KMeans, DBSCAN, OPTICS\n",
    "from esda.adbscan import ADBSCAN\n",
    "from sklearn.metrics import r2_score\n",
    "\n",
    "from matplotlib.colors import ListedColormap\n",
    "%matplotlib inline\n",
    "import matplotlib.cm as cm\n",
    "import matplotlib.pyplot as plt\n",
    "\n",
    "\n",
    "\n",
    "import random\n",
    "random.seed(42)    # For reproducibility\n",
    "np.random.seed(42) # For reproducibility\n",
    "\n",
    "# Make numeric display a bit neater\n",
    "pd.set_option('display.float_format', lambda x: '{:,.2f}'.format(x))\n",
    "\n",
    "#visualisation set\n",
    "sns.set(style=\"whitegrid\", palette=\"pastel\", color_codes=True) \n",
    "sns.mpl.rc(\"figure\", figsize=(10,6))\n",
    "\n",
    "from IPython.display import HTML\n"
   ]
  },
  {
   "cell_type": "code",
   "execution_count": 2,
   "id": "a39cae18",
   "metadata": {
    "scrolled": true
   },
   "outputs": [],
   "source": [
    "from requests import get\n",
    "from urllib.parse import urlparse\n",
    "\n",
    "def cache_data(src:str, dest:str) -> str:\n",
    "    \"\"\"Downloads and caches a remote file locally.\n",
    "    \n",
    "    The function sits between the 'read' step of a pandas or geopandas\n",
    "    data frame and downloading the file from a remote location. The idea\n",
    "    is that it will save it locally so that you don't need to remember to\n",
    "    do so yourself. Subsequent re-reads of the file will return instantly\n",
    "    rather than downloading the entire file for a second or n-th itme.\n",
    "    \n",
    "    Parameters\n",
    "    ----------\n",
    "    src : str\n",
    "        The remote *source* for the file, any valid URL should work.\n",
    "    dest : str\n",
    "        The *destination* location to save the downloaded file.\n",
    "        \n",
    "    Returns\n",
    "    -------\n",
    "    str\n",
    "        A string representing the local location of the file.\n",
    "    \"\"\"\n",
    "    \n",
    "    url = urlparse(src) # We assume that this is some kind of valid URL \n",
    "    fn  = os.path.split(url.path)[-1] # Extract the filename\n",
    "    dfn = os.path.join(dest,fn) # Destination filename\n",
    "    \n",
    "    # Check if dest+filename does *not* exist -- \n",
    "    # that would mean we have to download it!\n",
    "    if not os.path.isfile(dfn):\n",
    "        \n",
    "        print(f\"{dfn} not found, downloading!\")\n",
    "\n",
    "        # Convert the path back into a list (without)\n",
    "        # the filename -- we need to check that directories\n",
    "        # exist first.\n",
    "        path = os.path.split(dest)\n",
    "        \n",
    "        # Create any missing directories in dest(ination) path\n",
    "        # -- os.path.join is the reverse of split (as you saw above)\n",
    "        # but it doesn't work with lists... so I had to google how\n",
    "        # to use the 'splat' operator! os.makedirs creates missing\n",
    "        # directories in a path automatically.\n",
    "        if len(path) >= 1 and path[0] != '':\n",
    "            os.makedirs(os.path.join(*path), exist_ok=True)\n",
    "            \n",
    "        # Download and write the file\n",
    "        with open(dfn, \"wb\") as file:\n",
    "            response = get(src)\n",
    "            file.write(response.content)\n",
    "            \n",
    "        print('Done downloading...')\n",
    "\n",
    "    else:\n",
    "        print(f\"Found {dfn} locally!\")\n",
    "\n",
    "    return dfn"
   ]
  },
  {
   "cell_type": "markdown",
   "id": "187ef4e4",
   "metadata": {},
   "source": [
    "## Reading in Data"
   ]
  },
  {
   "cell_type": "markdown",
   "id": "9a040d81",
   "metadata": {},
   "source": [
    "##### Index of Multiple Deprivation\n",
    "England and Wales"
   ]
  },
  {
   "cell_type": "code",
   "execution_count": 3,
   "id": "5a6edfd8",
   "metadata": {
    "scrolled": true
   },
   "outputs": [],
   "source": [
    "#Index of Multiple Deprivation 2019 (England)\n",
    "# Set download URL\n",
    "url = 'https://raw.githubusercontent.com/YHuj20/Buildbackbetter/main/Data/IMD2019.csv'\n",
    "# Read in data from github\n",
    "IMD19 = pd.read_csv(url, low_memory=False)"
   ]
  },
  {
   "cell_type": "code",
   "execution_count": 4,
   "id": "3effd667",
   "metadata": {},
   "outputs": [],
   "source": [
    "#Index of Multiple Deprivation 2015 (England)\n",
    "# Set download URL\n",
    "url = 'https://raw.githubusercontent.com/YHuj20/Buildbackbetter/main/Data/IMD2015.csv'\n",
    "# Read in data from github\n",
    "IMD15 = pd.read_csv(url, low_memory=False)"
   ]
  },
  {
   "cell_type": "code",
   "execution_count": 5,
   "id": "de3b473b",
   "metadata": {},
   "outputs": [],
   "source": [
    "#Index of Multiple Deprivation England and Wales\n",
    "# Set download URL\n",
    "url = 'https://raw.githubusercontent.com/YHuj20/Buildbackbetter2/main/Data/EWIMD19.csv'\n",
    "# Read in data from github\n",
    "EWIMD19 = pd.read_csv(url, low_memory=False)"
   ]
  },
  {
   "cell_type": "code",
   "execution_count": 6,
   "id": "19c8e4a0",
   "metadata": {},
   "outputs": [],
   "source": [
    "#Index of Multiple Deprivation 2007 (England)\n",
    "# Set download URL\n",
    "#url = 'https://raw.githubusercontent.com/YHuj20/Buildbackbetter/main/Data/IMD2007.csv'\n",
    "# Read in data from github\n",
    "#IMD15 = pd.read_csv(url, low_memory=False)"
   ]
  },
  {
   "cell_type": "markdown",
   "id": "ae1b83f6",
   "metadata": {
    "scrolled": true
   },
   "source": [
    "Scotland"
   ]
  },
  {
   "cell_type": "code",
   "execution_count": 7,
   "id": "65b1890a",
   "metadata": {},
   "outputs": [],
   "source": [
    "#Index of Multiple Deprivation 2020 (Scotland)\n",
    "# Set download URL\n",
    "url = 'https://raw.githubusercontent.com/YHuj20/Buildbackbetter2/main/Data/SIMD2020.csv'\n",
    "# Read in data from github\n",
    "SIMD20 = pd.read_csv(url, low_memory=False)"
   ]
  },
  {
   "cell_type": "code",
   "execution_count": 8,
   "id": "d4db5404",
   "metadata": {},
   "outputs": [],
   "source": [
    "#Index of Multiple Deprivation 2015 (Scotland)\n",
    "# Set download URL\n",
    "#url = 'https://raw.githubusercontent.com/YHuj20/Buildbackbetter/main/Data/WIMD2015.csv'\n",
    "# Read in data from github\n",
    "#IMD19 = pd.read_csv(url, low_memory=False)"
   ]
  },
  {
   "cell_type": "code",
   "execution_count": 9,
   "id": "7b4a2c71",
   "metadata": {},
   "outputs": [],
   "source": [
    "#Index of Multiple Deprivation 2015 (Scotland)\n",
    "# Set download URL\n",
    "#url = 'https://raw.githubusercontent.com/YHuj20/Buildbackbetter/main/Data/WIMD2015.csv'\n",
    "# Read in data from github\n",
    "#IMD19 = pd.read_csv(url, low_memory=False)"
   ]
  },
  {
   "cell_type": "code",
   "execution_count": 10,
   "id": "7a4debf9",
   "metadata": {},
   "outputs": [],
   "source": [
    "#Index of Multiple Deprivation 2015 (Scotland)\n",
    "# Set download URL\n",
    "#url = 'https://raw.githubusercontent.com/YHuj20/Buildbackbetter2/main/Data/SIMD2020.csv'\n",
    "# Read in data from github\n",
    "#IMD19 = pd.read_csv(url, low_memory=False)"
   ]
  },
  {
   "cell_type": "markdown",
   "id": "b135ea72",
   "metadata": {},
   "source": [
    "##### Gross Value Added (GVA)"
   ]
  },
  {
   "cell_type": "code",
   "execution_count": 11,
   "id": "7d8a01d5",
   "metadata": {
    "scrolled": true
   },
   "outputs": [],
   "source": [
    "#Gross Value Added \n",
    "# Set download URL\n",
    "url = 'https://raw.githubusercontent.com/YHuj20/Buildbackbetter2/main/Data/GVA-per-head.csv'\n",
    "# Read in data from github\n",
    "GVAph = pd.read_csv(url, low_memory=False)"
   ]
  },
  {
   "cell_type": "markdown",
   "id": "0c770ee8",
   "metadata": {},
   "source": [
    "##### Gross Domestic Product (GDP)"
   ]
  },
  {
   "cell_type": "code",
   "execution_count": 12,
   "id": "ae63ea1d",
   "metadata": {},
   "outputs": [],
   "source": [
    "#Gross Domestic Product\n",
    "# Set download URL\n",
    "url = 'https://raw.githubusercontent.com/YHuj20/Buildbackbetter2/main/Data/GDP.csv'\n",
    "# Read in data from github\n",
    "GDP = pd.read_csv(url, low_memory=False)"
   ]
  },
  {
   "cell_type": "markdown",
   "id": "c3b26dae",
   "metadata": {},
   "source": [
    "##### AHAH"
   ]
  },
  {
   "cell_type": "code",
   "execution_count": 13,
   "id": "92d8f8cd",
   "metadata": {
    "scrolled": true
   },
   "outputs": [],
   "source": [
    "#Access to Healthy Assets and Hazards (AHAH)\n",
    "# Set download URL\n",
    "url = 'https://raw.githubusercontent.com/YHuj20/Buildbackbetter/main/Data/AHAH.csv'\n",
    "# Read in data from github\n",
    "AHAH = pd.read_csv(url, low_memory=False)"
   ]
  },
  {
   "cell_type": "markdown",
   "id": "76c0b27d",
   "metadata": {},
   "source": [
    "##### Underlying Indicators"
   ]
  },
  {
   "cell_type": "code",
   "execution_count": 14,
   "id": "2b82cbf9",
   "metadata": {},
   "outputs": [],
   "source": [
    "#Underlying Indicators of IMD \n",
    "# Set download URL\n",
    "url = 'https://raw.githubusercontent.com/YHuj20/Buildbackbetter2/main/Data/IMDunderlyingindicators.csv'\n",
    "# Read in data from github\n",
    "indicators = pd.read_csv(url, low_memory=False)"
   ]
  },
  {
   "cell_type": "markdown",
   "id": "0e6f6273",
   "metadata": {},
   "source": [
    "##### Barbour ABI Data"
   ]
  },
  {
   "cell_type": "code",
   "execution_count": 15,
   "id": "e026799e",
   "metadata": {
    "scrolled": true
   },
   "outputs": [
    {
     "name": "stdout",
     "output_type": "stream",
     "text": [
      "<class 'pandas.core.frame.DataFrame'>\n",
      "RangeIndex: 107011 entries, 0 to 107010\n",
      "Data columns (total 56 columns):\n",
      " #   Column            Non-Null Count   Dtype  \n",
      "---  ------            --------------   -----  \n",
      " 0   Barbour ref       107011 non-null  int64  \n",
      " 1   Long              104029 non-null  float64\n",
      " 2   Lat               104029 non-null  float64\n",
      " 3   Project Link ID   8391 non-null    float64\n",
      " 4   Start Date        107011 non-null  object \n",
      " 5   Finish date       107011 non-null  object \n",
      " 6   Govt Region       90945 non-null   object \n",
      " 7   Primary category  107011 non-null  object \n",
      " 8   Primary sector    107011 non-null  object \n",
      " 9   ECMR Sector       107011 non-null  object \n",
      " 10  Title             107010 non-null  object \n",
      " 11  Site1             106613 non-null  object \n",
      " 12  Site2             84241 non-null   object \n",
      " 13  Site3             104507 non-null  object \n",
      " 14  Site4             106852 non-null  object \n",
      " 15  Pcode             106866 non-null  object \n",
      " 16  Value             106655 non-null  float64\n",
      " 17  Scheme            107011 non-null  object \n",
      " 18  Contract          79825 non-null   object \n",
      " 19  Framework         1926 non-null    object \n",
      " 20  1995              106655 non-null  float64\n",
      " 21  1996              106655 non-null  float64\n",
      " 22  1997              106655 non-null  float64\n",
      " 23  1998              106655 non-null  float64\n",
      " 24  1999              106655 non-null  float64\n",
      " 25  2000              106655 non-null  float64\n",
      " 26  2001              106655 non-null  float64\n",
      " 27  2002              106655 non-null  float64\n",
      " 28  2003              106655 non-null  float64\n",
      " 29  2004              106655 non-null  float64\n",
      " 30  2005              106655 non-null  float64\n",
      " 31  2006              106655 non-null  float64\n",
      " 32  2007              106655 non-null  float64\n",
      " 33  2008              106655 non-null  float64\n",
      " 34  2009              106655 non-null  float64\n",
      " 35  2010              106655 non-null  float64\n",
      " 36  2011              106655 non-null  float64\n",
      " 37  2012              106655 non-null  float64\n",
      " 38  2013              106655 non-null  float64\n",
      " 39  2014              106655 non-null  float64\n",
      " 40  2015              106655 non-null  float64\n",
      " 41  2016              106655 non-null  float64\n",
      " 42  2017              106655 non-null  float64\n",
      " 43  2018              106655 non-null  float64\n",
      " 44  2019              106655 non-null  float64\n",
      " 45  2020              106655 non-null  float64\n",
      " 46  2021              106655 non-null  float64\n",
      " 47  2022              106655 non-null  float64\n",
      " 48  2023              106655 non-null  float64\n",
      " 49  2024              106655 non-null  float64\n",
      " 50  2025              106655 non-null  float64\n",
      " 51  2026              106655 non-null  float64\n",
      " 52  2027              106655 non-null  float64\n",
      " 53  2028              106655 non-null  float64\n",
      " 54  2029              106655 non-null  float64\n",
      " 55  2030              106655 non-null  float64\n",
      "dtypes: float64(40), int64(1), object(15)\n",
      "memory usage: 45.7+ MB\n"
     ]
    }
   ],
   "source": [
    "# Read in data locally\n",
    "BABI = pd.read_csv('BABIData/BABIcompletedates.csv', low_memory=False)\n",
    "BABI.info()"
   ]
  },
  {
   "cell_type": "code",
   "execution_count": 16,
   "id": "814739e0",
   "metadata": {
    "scrolled": true
   },
   "outputs": [],
   "source": [
    "# Read in data locally\n",
    "BABI_startdates = pd.read_csv('BABIData/BABIstartdates.csv', low_memory=False)"
   ]
  },
  {
   "cell_type": "markdown",
   "id": "34cdce79",
   "metadata": {},
   "source": [
    "##### Barbour ABI Data By Category - Transport"
   ]
  },
  {
   "cell_type": "markdown",
   "id": "f981a3b9",
   "metadata": {},
   "source": [
    "Transport category segmented into 3 value levels based on the 33rd and 66th percentiles.  \n",
    "\n",
    "Transport 1 < £400,000  \n",
    "\n",
    "Transport 2 400,000 < x <1.8m  \n",
    "\n",
    "Transport 3 >1.8m"
   ]
  },
  {
   "cell_type": "code",
   "execution_count": 17,
   "id": "f24fea67",
   "metadata": {},
   "outputs": [
    {
     "name": "stdout",
     "output_type": "stream",
     "text": [
      "<class 'pandas.core.frame.DataFrame'>\n",
      "RangeIndex: 6260 entries, 0 to 6259\n",
      "Data columns (total 60 columns):\n",
      " #   Column            Non-Null Count  Dtype  \n",
      "---  ------            --------------  -----  \n",
      " 0   Barbour ref       6260 non-null   int64  \n",
      " 1   Long              6099 non-null   float64\n",
      " 2   Lat               6099 non-null   float64\n",
      " 3   Project Link ID   488 non-null    float64\n",
      " 4   Start Date        6260 non-null   int64  \n",
      " 5   Finish date       6260 non-null   int64  \n",
      " 6   Govt Region       5297 non-null   object \n",
      " 7   Primary category  6260 non-null   object \n",
      " 8   Primary sector    6260 non-null   object \n",
      " 9   CAT + Sector      6260 non-null   object \n",
      " 10  ECMR Sector       6260 non-null   object \n",
      " 11  New Category      6260 non-null   object \n",
      " 12  Transport?        6260 non-null   int64  \n",
      " 13  Title             6260 non-null   object \n",
      " 14  Site1             6228 non-null   object \n",
      " 15  Site2             4179 non-null   object \n",
      " 16  Site3             6077 non-null   object \n",
      " 17  Site4             6245 non-null   object \n",
      " 18  Pcode             6254 non-null   object \n",
      " 19  Value             6260 non-null   float64\n",
      " 20  Value Exc 0       6260 non-null   float64\n",
      " 21  Scheme            6260 non-null   object \n",
      " 22  Contract          3983 non-null   object \n",
      " 23  Framework         67 non-null     object \n",
      " 24  1995              6260 non-null   int64  \n",
      " 25  1996              6260 non-null   float64\n",
      " 26  1997              6260 non-null   float64\n",
      " 27  1998              6260 non-null   float64\n",
      " 28  1999              6260 non-null   float64\n",
      " 29  2000              6260 non-null   float64\n",
      " 30  2001              6260 non-null   float64\n",
      " 31  2002              6260 non-null   float64\n",
      " 32  2003              6260 non-null   float64\n",
      " 33  2004              6260 non-null   float64\n",
      " 34  2005              6260 non-null   float64\n",
      " 35  2006              6260 non-null   float64\n",
      " 36  2007              6260 non-null   float64\n",
      " 37  2008              6260 non-null   float64\n",
      " 38  2009              6260 non-null   float64\n",
      " 39  2010              6260 non-null   float64\n",
      " 40  2011              6260 non-null   float64\n",
      " 41  2012              6260 non-null   float64\n",
      " 42  2013              6260 non-null   float64\n",
      " 43  2014              6260 non-null   float64\n",
      " 44  2015              6260 non-null   float64\n",
      " 45  2016              6260 non-null   float64\n",
      " 46  2017              6260 non-null   float64\n",
      " 47  2018              6260 non-null   float64\n",
      " 48  2019              6260 non-null   float64\n",
      " 49  2020              6260 non-null   float64\n",
      " 50  2021              6260 non-null   float64\n",
      " 51  2022              6260 non-null   float64\n",
      " 52  2023              6260 non-null   float64\n",
      " 53  2024              6260 non-null   float64\n",
      " 54  2025              6260 non-null   int64  \n",
      " 55  2026              6260 non-null   int64  \n",
      " 56  2027              6260 non-null   int64  \n",
      " 57  2028              6260 non-null   int64  \n",
      " 58  2029              6260 non-null   int64  \n",
      " 59  2030              6260 non-null   int64  \n",
      "dtypes: float64(34), int64(11), object(15)\n",
      "memory usage: 2.9+ MB\n"
     ]
    }
   ],
   "source": [
    "# Read in data locally\n",
    "Transport1 = pd.read_csv('BABIData/Transport1.csv', low_memory=False)\n",
    "Transport1.info()"
   ]
  },
  {
   "cell_type": "code",
   "execution_count": 18,
   "id": "a81ed7cc",
   "metadata": {},
   "outputs": [
    {
     "data": {
      "text/plain": [
       "(6911, 60)"
      ]
     },
     "execution_count": 18,
     "metadata": {},
     "output_type": "execute_result"
    }
   ],
   "source": [
    "# Read in data locally\n",
    "Transport2 = pd.read_csv('BABIData/Transport2.csv', low_memory=False)\n",
    "Transport2.shape"
   ]
  },
  {
   "cell_type": "code",
   "execution_count": 19,
   "id": "d8ff5841",
   "metadata": {},
   "outputs": [
    {
     "data": {
      "text/plain": [
       "(6604, 60)"
      ]
     },
     "execution_count": 19,
     "metadata": {},
     "output_type": "execute_result"
    }
   ],
   "source": [
    "# Read in data locally\n",
    "Transport3 = pd.read_csv('BABIData/Transport3.csv', low_memory=False)\n",
    "Transport3.shape"
   ]
  },
  {
   "cell_type": "code",
   "execution_count": 20,
   "id": "f5f52ad8",
   "metadata": {},
   "outputs": [],
   "source": [
    "#[Transport1,Transport2,Transport3,General,Primary,Secondary,University,Localhealth,Hospitals,Utility]"
   ]
  },
  {
   "cell_type": "markdown",
   "id": "71c019e8",
   "metadata": {},
   "source": [
    "##### Barbour ABI Data By Category - General/Essential"
   ]
  },
  {
   "cell_type": "code",
   "execution_count": 21,
   "id": "a14b0950",
   "metadata": {},
   "outputs": [
    {
     "data": {
      "text/plain": [
       "(7405, 58)"
      ]
     },
     "execution_count": 21,
     "metadata": {},
     "output_type": "execute_result"
    }
   ],
   "source": [
    "# Read in data locally\n",
    "General = pd.read_csv('BABIData/General-essential.csv', low_memory=False)\n",
    "General.shape"
   ]
  },
  {
   "cell_type": "markdown",
   "id": "166d8289",
   "metadata": {},
   "source": [
    "##### Barbour ABI Data By Category - Primary and Nursery"
   ]
  },
  {
   "cell_type": "code",
   "execution_count": 22,
   "id": "57a33747",
   "metadata": {},
   "outputs": [
    {
     "data": {
      "text/plain": [
       "(21679, 58)"
      ]
     },
     "execution_count": 22,
     "metadata": {},
     "output_type": "execute_result"
    }
   ],
   "source": [
    "# Read in data locally\n",
    "Primary = pd.read_csv('BABIData/Primary-nursery.csv', low_memory=False)\n",
    "Primary.shape"
   ]
  },
  {
   "cell_type": "markdown",
   "id": "4b58e716",
   "metadata": {},
   "source": [
    "##### Barbour ABI Data By Category - Secondary and Special"
   ]
  },
  {
   "cell_type": "code",
   "execution_count": 23,
   "id": "50ea44a7",
   "metadata": {},
   "outputs": [
    {
     "data": {
      "text/plain": [
       "(10064, 58)"
      ]
     },
     "execution_count": 23,
     "metadata": {},
     "output_type": "execute_result"
    }
   ],
   "source": [
    "# Read in data locally\n",
    "Secondary = pd.read_csv('BABIData/Secondary.csv', low_memory=False)\n",
    "Secondary.shape"
   ]
  },
  {
   "cell_type": "markdown",
   "id": "040e5fe9",
   "metadata": {},
   "source": [
    "##### Barbour ABI Data By Category - University, College and Training"
   ]
  },
  {
   "cell_type": "code",
   "execution_count": 24,
   "id": "124da1f4",
   "metadata": {},
   "outputs": [
    {
     "data": {
      "text/plain": [
       "(16539, 58)"
      ]
     },
     "execution_count": 24,
     "metadata": {},
     "output_type": "execute_result"
    }
   ],
   "source": [
    "# Read in data locally\n",
    "University = pd.read_csv('BABIData/University.csv', low_memory=False)\n",
    "University.shape"
   ]
  },
  {
   "cell_type": "markdown",
   "id": "af97e581",
   "metadata": {},
   "source": [
    "##### Barbour ABI Data By Category - Local Healthcare"
   ]
  },
  {
   "cell_type": "code",
   "execution_count": 25,
   "id": "270e5008",
   "metadata": {},
   "outputs": [
    {
     "data": {
      "text/plain": [
       "(6727, 58)"
      ]
     },
     "execution_count": 25,
     "metadata": {},
     "output_type": "execute_result"
    }
   ],
   "source": [
    "# Read in data locally\n",
    "Localhealth = pd.read_csv('BABIData/Local-health.csv', low_memory=False)\n",
    "Localhealth.shape"
   ]
  },
  {
   "cell_type": "markdown",
   "id": "de3f6804",
   "metadata": {},
   "source": [
    "##### Barbour ABI Data By Category - Hospitals"
   ]
  },
  {
   "cell_type": "code",
   "execution_count": 26,
   "id": "a1b4d7bb",
   "metadata": {},
   "outputs": [
    {
     "data": {
      "text/plain": [
       "(7185, 58)"
      ]
     },
     "execution_count": 26,
     "metadata": {},
     "output_type": "execute_result"
    }
   ],
   "source": [
    "# Read in data locally\n",
    "Hospitals = pd.read_csv('BABIData/Hospitals.csv', low_memory=False)\n",
    "Hospitals.shape"
   ]
  },
  {
   "cell_type": "markdown",
   "id": "2e89de78",
   "metadata": {},
   "source": [
    "##### Barbour ABI Data By Category - Utility"
   ]
  },
  {
   "cell_type": "code",
   "execution_count": 27,
   "id": "da1971a9",
   "metadata": {},
   "outputs": [
    {
     "data": {
      "text/plain": [
       "(3951, 58)"
      ]
     },
     "execution_count": 27,
     "metadata": {},
     "output_type": "execute_result"
    }
   ],
   "source": [
    "# Read in data locally\n",
    "Utility = pd.read_csv('BABIData/Utility.csv', low_memory=False)\n",
    "Utility.shape"
   ]
  },
  {
   "cell_type": "markdown",
   "id": "806db84e",
   "metadata": {
    "scrolled": true
   },
   "source": [
    "##### Shapefiles"
   ]
  },
  {
   "cell_type": "code",
   "execution_count": 28,
   "id": "26ecb096",
   "metadata": {
    "scrolled": true
   },
   "outputs": [
    {
     "name": "stdout",
     "output_type": "stream",
     "text": [
      "epsg:27700\n"
     ]
    }
   ],
   "source": [
    "#Read in LSOA boundaries shapefile (local) downloadable from https://geoportal.statistics.gov.uk/datasets/lower-layer-super-output-areas-december-2011-boundaries-full-clipped-bfc-ew-v3?geometry=-23.080%2C50.522%2C18.734%2C55.161\n",
    "lsoas = gpd.read_file(os.path.join('LSOA-boundaries','Lower_Layer_Super_Output_Areas__December_2011__Boundaries_Full_Clipped__BFC__EW_V3.shp'))\n",
    "#checking projection\n",
    "print(lsoas.crs)\n",
    "#lsoas.plot()"
   ]
  },
  {
   "cell_type": "code",
   "execution_count": 29,
   "id": "3135f6a8",
   "metadata": {},
   "outputs": [
    {
     "name": "stdout",
     "output_type": "stream",
     "text": [
      "epsg:27700\n"
     ]
    }
   ],
   "source": [
    "#Read in Scotland boundaries shapefile (local) downloadable from https://data.gov.uk/dataset/ab9f1f20-3b7f-4efa-9bd2-239acf63b540/data-zone-boundaries-2011\n",
    "dzs = gpd.read_file(os.path.join('DataZone-boundaries-Scotland','SG_DataZone_Bdry_2011.shp'))\n",
    "#checking projection\n",
    "print(dzs.crs)\n",
    "#dzs.plot()"
   ]
  },
  {
   "cell_type": "markdown",
   "id": "6f209a5f",
   "metadata": {},
   "source": [
    "##### Lookups"
   ]
  },
  {
   "cell_type": "code",
   "execution_count": 30,
   "id": "293a03f4",
   "metadata": {},
   "outputs": [],
   "source": [
    "#England and Wales LSOA Lookups\n",
    "# Set download URL\n",
    "url = 'https://raw.githubusercontent.com/YHuj20/Buildbackbetter2/main/Data/LSOALookups.csv'\n",
    "# Read in data from github\n",
    "EngWalesLookup = pd.read_csv(url, low_memory=False)"
   ]
  },
  {
   "cell_type": "code",
   "execution_count": 31,
   "id": "2dd5a6bb",
   "metadata": {},
   "outputs": [],
   "source": [
    "#Scotland LSOA Lookups\n",
    "# Set download URL\n",
    "url = 'https://raw.githubusercontent.com/YHuj20/Buildbackbetter2/main/Data/ScotlandLookups.csv'\n",
    "# Read in data from github\n",
    "ScotlandLookup = pd.read_csv(url, low_memory=False)"
   ]
  },
  {
   "cell_type": "code",
   "execution_count": 32,
   "id": "5ec5cb33",
   "metadata": {},
   "outputs": [],
   "source": [
    "#final lookup of all lsoas / datazones with NUTS and counties and regions\n",
    "url = 'https://raw.githubusercontent.com/YHuj20/Buildbackbetter2/main/Data/LSOAandScotlandLookuptoRegion.csv'\n",
    "#Read in data\n",
    "NUTSLookups = pd.read_csv(url, low_memory= False)"
   ]
  },
  {
   "cell_type": "markdown",
   "id": "8530046c",
   "metadata": {},
   "source": [
    "##### Scaling Factors"
   ]
  },
  {
   "cell_type": "code",
   "execution_count": 33,
   "id": "b65d6ed7",
   "metadata": {},
   "outputs": [],
   "source": [
    "#Yearly Inflation Rates\n",
    "# Set download URL\n",
    "url = 'https://raw.githubusercontent.com/YHuj20/Buildbackbetter2/main/Data/CPI-annual.csv'\n",
    "# Read in data from github\n",
    "CPI = pd.read_csv(url, low_memory=False)"
   ]
  },
  {
   "cell_type": "markdown",
   "id": "1fdfd083",
   "metadata": {},
   "source": [
    "## Data Wrangling"
   ]
  },
  {
   "cell_type": "markdown",
   "id": "404019cc",
   "metadata": {},
   "source": [
    "#### Shapefiles"
   ]
  },
  {
   "cell_type": "code",
   "execution_count": 34,
   "id": "47208a2c",
   "metadata": {},
   "outputs": [],
   "source": [
    "#wrangling shapefiles to consistent column names\n",
    "dzs.rename(columns = {'DataZone':'Code'}, inplace = True)\n",
    "lsoas.rename(columns = {'Shape__Are':'Shape_Area','LSOA11NM':'Name', 'LSOA11CD':'Code', }, inplace = True)\n",
    "lsoas.drop(['OBJECTID','Shape__Len','LONG_','LAT', 'BNG_E', 'BNG_N'], axis = 1, inplace = True)\n",
    "dzs.drop(['TotPop2011', 'ResPop2011', 'HHCnt2011', 'StdAreaHa', 'StdAreaKm2'], axis = 1, inplace = True)\n",
    "\n",
    "#concatenating shapefiles\n",
    "\n",
    "shps = [lsoas,dzs]\n",
    "\n",
    "lsoas = pd.concat(shps)\n",
    "\n",
    "#lsoas.plot()"
   ]
  },
  {
   "cell_type": "code",
   "execution_count": 35,
   "id": "e3a23890",
   "metadata": {},
   "outputs": [
    {
     "data": {
      "text/html": [
       "<div>\n",
       "<style scoped>\n",
       "    .dataframe tbody tr th:only-of-type {\n",
       "        vertical-align: middle;\n",
       "    }\n",
       "\n",
       "    .dataframe tbody tr th {\n",
       "        vertical-align: top;\n",
       "    }\n",
       "\n",
       "    .dataframe thead th {\n",
       "        text-align: right;\n",
       "    }\n",
       "</style>\n",
       "<table border=\"1\" class=\"dataframe\">\n",
       "  <thead>\n",
       "    <tr style=\"text-align: right;\">\n",
       "      <th></th>\n",
       "      <th>Code</th>\n",
       "      <th>LSOA name (2011)</th>\n",
       "      <th>LA Name</th>\n",
       "      <th>Income Domain Rank</th>\n",
       "      <th>Employment Domain Rank</th>\n",
       "      <th>IMD Rank</th>\n",
       "    </tr>\n",
       "  </thead>\n",
       "  <tbody>\n",
       "    <tr>\n",
       "      <th>0</th>\n",
       "      <td>E01000001</td>\n",
       "      <td>City of London 001A</td>\n",
       "      <td>City of London</td>\n",
       "      <td>34,740.00</td>\n",
       "      <td>34,651.00</td>\n",
       "      <td>29199</td>\n",
       "    </tr>\n",
       "    <tr>\n",
       "      <th>1</th>\n",
       "      <td>E01000002</td>\n",
       "      <td>City of London 001B</td>\n",
       "      <td>City of London</td>\n",
       "      <td>31,762.00</td>\n",
       "      <td>33,081.00</td>\n",
       "      <td>30379</td>\n",
       "    </tr>\n",
       "    <tr>\n",
       "      <th>2</th>\n",
       "      <td>E01000003</td>\n",
       "      <td>City of London 001C</td>\n",
       "      <td>City of London</td>\n",
       "      <td>19,929.00</td>\n",
       "      <td>16,455.00</td>\n",
       "      <td>14915</td>\n",
       "    </tr>\n",
       "    <tr>\n",
       "      <th>3</th>\n",
       "      <td>E01000005</td>\n",
       "      <td>City of London 001E</td>\n",
       "      <td>City of London</td>\n",
       "      <td>6,542.00</td>\n",
       "      <td>8,679.00</td>\n",
       "      <td>8678</td>\n",
       "    </tr>\n",
       "    <tr>\n",
       "      <th>4</th>\n",
       "      <td>E01000006</td>\n",
       "      <td>Barking and Dagenham 016A</td>\n",
       "      <td>Barking and Dagenham</td>\n",
       "      <td>15,148.00</td>\n",
       "      <td>23,344.00</td>\n",
       "      <td>14486</td>\n",
       "    </tr>\n",
       "  </tbody>\n",
       "</table>\n",
       "</div>"
      ],
      "text/plain": [
       "        Code           LSOA name (2011)               LA Name  \\\n",
       "0  E01000001        City of London 001A        City of London   \n",
       "1  E01000002        City of London 001B        City of London   \n",
       "2  E01000003        City of London 001C        City of London   \n",
       "3  E01000005        City of London 001E        City of London   \n",
       "4  E01000006  Barking and Dagenham 016A  Barking and Dagenham   \n",
       "\n",
       "   Income Domain Rank  Employment Domain Rank  IMD Rank  \n",
       "0           34,740.00               34,651.00     29199  \n",
       "1           31,762.00               33,081.00     30379  \n",
       "2           19,929.00               16,455.00     14915  \n",
       "3            6,542.00                8,679.00      8678  \n",
       "4           15,148.00               23,344.00     14486  "
      ]
     },
     "execution_count": 35,
     "metadata": {},
     "output_type": "execute_result"
    }
   ],
   "source": [
    "#wrangling Index of Multiple Deprivation to consistent column names\n",
    "\n",
    "SIMD20.rename(columns = {'Data_Zone':'Code', 'Council_area':'LA Name', 'SIMD2020v2_Rank':'IMD Rank', \n",
    "                         'SIMD2020v2_Income_Domain_Rank':'Income Domain Rank', 'SIMD2020_Employment_Domain_Rank' : 'Employment Domain Rank'}, inplace = True)\n",
    "EWIMD19.rename(columns = {'LSOA Code (2011)':'Code', \n",
    "                          'Local Authority District name (2019)': 'LA Name',\n",
    "                         'Income Domain Rank (where 1 is most deprived)':'Income Domain Rank',\n",
    "                         'Employment Domain Rank (where 1 is most deprived)':'Employment Domain Rank'}, inplace = True)\n",
    "\n",
    "SIMD20.drop(['Intermediate_Zone', 'Total_population', 'Working_age_population', 'SIMD2020_Health_Domain_Rank',\n",
    "             'SIMD2020_Education_Domain_Rank','SIMD2020_Access_Domain_Rank','SIMD2020_Crime_Domain_Rank',\n",
    "             'SIMD2020_Housing_Domain_Rank'], axis = 1, inplace = True)\n",
    "EWIMD19.drop(['Local Authority District code (2019)', 'IMD Decile', 'IDACI Score','IDACI Rank (where 1 is most deprived)', \n",
    "              'IDAOPI Score','IDAOPI Rank (where 1 is most deprived)','Employment Domain Score','Income Domain Score'], axis = 1, inplace = True)\n",
    "\n",
    "\n",
    "\n",
    "\n",
    "#concatenating tables\n",
    "\n",
    "IMD1920 = [EWIMD19,SIMD20]\n",
    "\n",
    "IMD1920 = pd.concat(IMD1920)\n",
    "\n",
    "IMD1920.head()"
   ]
  },
  {
   "cell_type": "markdown",
   "id": "b3afadfa",
   "metadata": {},
   "source": [
    "#### Sociodemographic Measures"
   ]
  },
  {
   "cell_type": "markdown",
   "id": "2096d1e7",
   "metadata": {},
   "source": [
    "Dissaggregating GVA and GDP from local authority to LSOA/DZ\n"
   ]
  },
  {
   "cell_type": "code",
   "execution_count": 36,
   "id": "2f202abf",
   "metadata": {},
   "outputs": [
    {
     "data": {
      "text/html": [
       "<div>\n",
       "<style scoped>\n",
       "    .dataframe tbody tr th:only-of-type {\n",
       "        vertical-align: middle;\n",
       "    }\n",
       "\n",
       "    .dataframe tbody tr th {\n",
       "        vertical-align: top;\n",
       "    }\n",
       "\n",
       "    .dataframe thead th {\n",
       "        text-align: right;\n",
       "    }\n",
       "</style>\n",
       "<table border=\"1\" class=\"dataframe\">\n",
       "  <thead>\n",
       "    <tr style=\"text-align: right;\">\n",
       "      <th></th>\n",
       "      <th>Code</th>\n",
       "      <th>Name</th>\n",
       "      <th>LACode</th>\n",
       "      <th>LAName</th>\n",
       "      <th>LA name (2020 boundaries)</th>\n",
       "      <th>Population</th>\n",
       "    </tr>\n",
       "  </thead>\n",
       "  <tbody>\n",
       "    <tr>\n",
       "      <th>0</th>\n",
       "      <td>E01011949</td>\n",
       "      <td>Hartlepool 009A</td>\n",
       "      <td>E06000001</td>\n",
       "      <td>Hartlepool</td>\n",
       "      <td>Hartlepool</td>\n",
       "      <td>1954</td>\n",
       "    </tr>\n",
       "    <tr>\n",
       "      <th>1</th>\n",
       "      <td>E01011950</td>\n",
       "      <td>Hartlepool 008A</td>\n",
       "      <td>E06000001</td>\n",
       "      <td>Hartlepool</td>\n",
       "      <td>Hartlepool</td>\n",
       "      <td>1257</td>\n",
       "    </tr>\n",
       "    <tr>\n",
       "      <th>2</th>\n",
       "      <td>E01011951</td>\n",
       "      <td>Hartlepool 007A</td>\n",
       "      <td>E06000001</td>\n",
       "      <td>Hartlepool</td>\n",
       "      <td>Hartlepool</td>\n",
       "      <td>1209</td>\n",
       "    </tr>\n",
       "    <tr>\n",
       "      <th>3</th>\n",
       "      <td>E01011952</td>\n",
       "      <td>Hartlepool 002A</td>\n",
       "      <td>E06000001</td>\n",
       "      <td>Hartlepool</td>\n",
       "      <td>Hartlepool</td>\n",
       "      <td>1740</td>\n",
       "    </tr>\n",
       "    <tr>\n",
       "      <th>4</th>\n",
       "      <td>E01011953</td>\n",
       "      <td>Hartlepool 002B</td>\n",
       "      <td>E06000001</td>\n",
       "      <td>Hartlepool</td>\n",
       "      <td>Hartlepool</td>\n",
       "      <td>2033</td>\n",
       "    </tr>\n",
       "  </tbody>\n",
       "</table>\n",
       "</div>"
      ],
      "text/plain": [
       "        Code             Name     LACode      LAName  \\\n",
       "0  E01011949  Hartlepool 009A  E06000001  Hartlepool   \n",
       "1  E01011950  Hartlepool 008A  E06000001  Hartlepool   \n",
       "2  E01011951  Hartlepool 007A  E06000001  Hartlepool   \n",
       "3  E01011952  Hartlepool 002A  E06000001  Hartlepool   \n",
       "4  E01011953  Hartlepool 002B  E06000001  Hartlepool   \n",
       "\n",
       "  LA name (2020 boundaries)  Population  \n",
       "0                Hartlepool        1954  \n",
       "1                Hartlepool        1257  \n",
       "2                Hartlepool        1209  \n",
       "3                Hartlepool        1740  \n",
       "4                Hartlepool        2033  "
      ]
     },
     "execution_count": 36,
     "metadata": {},
     "output_type": "execute_result"
    }
   ],
   "source": [
    "#concat lookups\n",
    "\n",
    "#wrangling to consistent column names\n",
    "\n",
    "EngWalesLookup.rename(columns = {'LSOA Code':'Code', 'LSOA Name':'Name', 'LA Code (2019 boundaries)':'LACode', \n",
    "                         'LA name (2019 boundaries)':'LAName', 'All Ages' : 'Population'}, inplace = True)\n",
    "ScotlandLookup.rename(columns = {'DZcode':'Code', \n",
    "                          'DZname': 'Name',\n",
    "                         'LAcode':'LACode',\n",
    "                         'LAname':'LAName'}, inplace = True)\n",
    "\n",
    "EngWalesLookup.drop(['LA Code (2020 boundaries)'], axis = 1, inplace = True)\n",
    "ScotlandLookup.drop(['Working_Age_Population'], axis = 1, inplace = True)\n",
    "\n",
    "#concatenating tables\n",
    "\n",
    "Lookups = [EngWalesLookup,ScotlandLookup]\n",
    "\n",
    "Lookups = pd.concat(Lookups)\n",
    "\n",
    "Lookups.head()"
   ]
  },
  {
   "cell_type": "code",
   "execution_count": 37,
   "id": "0d0aa084",
   "metadata": {},
   "outputs": [
    {
     "data": {
      "text/html": [
       "<div>\n",
       "<style scoped>\n",
       "    .dataframe tbody tr th:only-of-type {\n",
       "        vertical-align: middle;\n",
       "    }\n",
       "\n",
       "    .dataframe tbody tr th {\n",
       "        vertical-align: top;\n",
       "    }\n",
       "\n",
       "    .dataframe thead th {\n",
       "        text-align: right;\n",
       "    }\n",
       "</style>\n",
       "<table border=\"1\" class=\"dataframe\">\n",
       "  <thead>\n",
       "    <tr style=\"text-align: right;\">\n",
       "      <th></th>\n",
       "      <th>Code</th>\n",
       "      <th>Name</th>\n",
       "      <th>LACode</th>\n",
       "      <th>LAName</th>\n",
       "      <th>LA name (2020 boundaries)</th>\n",
       "      <th>LSOAPopulation</th>\n",
       "      <th>Region</th>\n",
       "      <th>LAU1 code</th>\n",
       "      <th>LA name</th>\n",
       "      <th>LAPopulation</th>\n",
       "      <th>Population%</th>\n",
       "      <th>GVA2016LSOA</th>\n",
       "      <th>GVA2015LSOA</th>\n",
       "      <th>GVA2014LSOA</th>\n",
       "      <th>GVA2013LSOA</th>\n",
       "    </tr>\n",
       "  </thead>\n",
       "  <tbody>\n",
       "    <tr>\n",
       "      <th>0</th>\n",
       "      <td>E01011949</td>\n",
       "      <td>Hartlepool 009A</td>\n",
       "      <td>E06000001</td>\n",
       "      <td>Hartlepool</td>\n",
       "      <td>Hartlepool</td>\n",
       "      <td>1954</td>\n",
       "      <td>North East</td>\n",
       "      <td>E06000001</td>\n",
       "      <td>Hartlepool</td>\n",
       "      <td>93,663.00</td>\n",
       "      <td>0.02</td>\n",
       "      <td>338.92</td>\n",
       "      <td>335.67</td>\n",
       "      <td>330.70</td>\n",
       "      <td>344.81</td>\n",
       "    </tr>\n",
       "    <tr>\n",
       "      <th>1</th>\n",
       "      <td>E01011950</td>\n",
       "      <td>Hartlepool 008A</td>\n",
       "      <td>E06000001</td>\n",
       "      <td>Hartlepool</td>\n",
       "      <td>Hartlepool</td>\n",
       "      <td>1257</td>\n",
       "      <td>North East</td>\n",
       "      <td>E06000001</td>\n",
       "      <td>Hartlepool</td>\n",
       "      <td>93,663.00</td>\n",
       "      <td>0.01</td>\n",
       "      <td>218.03</td>\n",
       "      <td>215.94</td>\n",
       "      <td>212.74</td>\n",
       "      <td>221.81</td>\n",
       "    </tr>\n",
       "    <tr>\n",
       "      <th>2</th>\n",
       "      <td>E01011951</td>\n",
       "      <td>Hartlepool 007A</td>\n",
       "      <td>E06000001</td>\n",
       "      <td>Hartlepool</td>\n",
       "      <td>Hartlepool</td>\n",
       "      <td>1209</td>\n",
       "      <td>North East</td>\n",
       "      <td>E06000001</td>\n",
       "      <td>Hartlepool</td>\n",
       "      <td>93,663.00</td>\n",
       "      <td>0.01</td>\n",
       "      <td>209.70</td>\n",
       "      <td>207.69</td>\n",
       "      <td>204.62</td>\n",
       "      <td>213.34</td>\n",
       "    </tr>\n",
       "    <tr>\n",
       "      <th>3</th>\n",
       "      <td>E01011952</td>\n",
       "      <td>Hartlepool 002A</td>\n",
       "      <td>E06000001</td>\n",
       "      <td>Hartlepool</td>\n",
       "      <td>Hartlepool</td>\n",
       "      <td>1740</td>\n",
       "      <td>North East</td>\n",
       "      <td>E06000001</td>\n",
       "      <td>Hartlepool</td>\n",
       "      <td>93,663.00</td>\n",
       "      <td>0.02</td>\n",
       "      <td>301.81</td>\n",
       "      <td>298.91</td>\n",
       "      <td>294.49</td>\n",
       "      <td>307.04</td>\n",
       "    </tr>\n",
       "    <tr>\n",
       "      <th>4</th>\n",
       "      <td>E01011953</td>\n",
       "      <td>Hartlepool 002B</td>\n",
       "      <td>E06000001</td>\n",
       "      <td>Hartlepool</td>\n",
       "      <td>Hartlepool</td>\n",
       "      <td>2033</td>\n",
       "      <td>North East</td>\n",
       "      <td>E06000001</td>\n",
       "      <td>Hartlepool</td>\n",
       "      <td>93,663.00</td>\n",
       "      <td>0.02</td>\n",
       "      <td>352.63</td>\n",
       "      <td>349.24</td>\n",
       "      <td>344.08</td>\n",
       "      <td>358.75</td>\n",
       "    </tr>\n",
       "  </tbody>\n",
       "</table>\n",
       "</div>"
      ],
      "text/plain": [
       "        Code             Name     LACode      LAName  \\\n",
       "0  E01011949  Hartlepool 009A  E06000001  Hartlepool   \n",
       "1  E01011950  Hartlepool 008A  E06000001  Hartlepool   \n",
       "2  E01011951  Hartlepool 007A  E06000001  Hartlepool   \n",
       "3  E01011952  Hartlepool 002A  E06000001  Hartlepool   \n",
       "4  E01011953  Hartlepool 002B  E06000001  Hartlepool   \n",
       "\n",
       "  LA name (2020 boundaries)  LSOAPopulation      Region  LAU1 code  \\\n",
       "0                Hartlepool            1954  North East  E06000001   \n",
       "1                Hartlepool            1257  North East  E06000001   \n",
       "2                Hartlepool            1209  North East  E06000001   \n",
       "3                Hartlepool            1740  North East  E06000001   \n",
       "4                Hartlepool            2033  North East  E06000001   \n",
       "\n",
       "      LA name  LAPopulation  Population%  GVA2016LSOA  GVA2015LSOA  \\\n",
       "0  Hartlepool     93,663.00         0.02       338.92       335.67   \n",
       "1  Hartlepool     93,663.00         0.01       218.03       215.94   \n",
       "2  Hartlepool     93,663.00         0.01       209.70       207.69   \n",
       "3  Hartlepool     93,663.00         0.02       301.81       298.91   \n",
       "4  Hartlepool     93,663.00         0.02       352.63       349.24   \n",
       "\n",
       "   GVA2014LSOA  GVA2013LSOA  \n",
       "0       330.70       344.81  \n",
       "1       212.74       221.81  \n",
       "2       204.62       213.34  \n",
       "3       294.49       307.04  \n",
       "4       344.08       358.75  "
      ]
     },
     "execution_count": 37,
     "metadata": {},
     "output_type": "execute_result"
    }
   ],
   "source": [
    "#Dissaggregate GVA from local authority to LSOA/DZ\n",
    "Lookups.Population = Lookups.Population.astype(int)\n",
    "\n",
    "#groupby local authority to create total populations\n",
    "LAPopulations = Lookups.groupby('LACode').sum()\n",
    "\n",
    "# Create total LA population column\n",
    "GVAph = GVAph.merge(LAPopulations, how='left', left_on = 'LAU1 code', right_on = 'LACode')\n",
    "\n",
    "#Merge GVA to lookups\n",
    "\n",
    "GVA = Lookups.merge(GVAph, how='left', left_on = 'LACode', right_on = 'LAU1 code')\n",
    "\n",
    "#create column of proportions of population per LSOA\n",
    "GVA.rename(columns = {'Population_x':'LSOAPopulation', \n",
    "                          'Population_y': 'LAPopulation'}, inplace = True)\n",
    "\n",
    "#Calculate GVA per LSOA using proportion of population (rough)\n",
    "GVA['Population%'] = GVA['LSOAPopulation']/GVA['LAPopulation']\n",
    "GVA['GVA2016LSOA'] = GVA['Population%'] * GVA['2016'] \n",
    "GVA['GVA2015LSOA'] = GVA['Population%'] * GVA['2015'] \n",
    "GVA['GVA2014LSOA'] = GVA['Population%'] * GVA['2014'] \n",
    "GVA['GVA2013LSOA'] = GVA['Population%'] * GVA['2013'] \n",
    "\n",
    "#drop unusued columns\n",
    "GVA.drop(['1998', '1999', '2000', '2001', '2002', '2003', '2004', \n",
    "         '2005', '2006', '2007', '2008', '2009', '2010', '2011', \n",
    "         '2012', '2013', '2014', '2015', '2016', 'SIC07 code', 'SIC07 Industry'], axis=1, inplace = True)\n",
    "\n",
    "GVA.head()"
   ]
  },
  {
   "cell_type": "code",
   "execution_count": 38,
   "id": "fc2376ee",
   "metadata": {},
   "outputs": [
    {
     "data": {
      "text/html": [
       "<div>\n",
       "<style scoped>\n",
       "    .dataframe tbody tr th:only-of-type {\n",
       "        vertical-align: middle;\n",
       "    }\n",
       "\n",
       "    .dataframe tbody tr th {\n",
       "        vertical-align: top;\n",
       "    }\n",
       "\n",
       "    .dataframe thead th {\n",
       "        text-align: right;\n",
       "    }\n",
       "</style>\n",
       "<table border=\"1\" class=\"dataframe\">\n",
       "  <thead>\n",
       "    <tr style=\"text-align: right;\">\n",
       "      <th></th>\n",
       "      <th>Code</th>\n",
       "      <th>Name</th>\n",
       "      <th>LACode</th>\n",
       "      <th>LAName</th>\n",
       "      <th>LA name (2020 boundaries)</th>\n",
       "      <th>LSOAPopulation</th>\n",
       "      <th>ITL1 Region</th>\n",
       "      <th>LA code</th>\n",
       "      <th>LA name</th>\n",
       "      <th>LAPopulation</th>\n",
       "      <th>Population%</th>\n",
       "      <th>GDP2019LSOA</th>\n",
       "      <th>GDP2018LSOA</th>\n",
       "      <th>GDP2017LSOA</th>\n",
       "      <th>GDP2016LSOA</th>\n",
       "    </tr>\n",
       "  </thead>\n",
       "  <tbody>\n",
       "    <tr>\n",
       "      <th>0</th>\n",
       "      <td>E01011949</td>\n",
       "      <td>Hartlepool 009A</td>\n",
       "      <td>E06000001</td>\n",
       "      <td>Hartlepool</td>\n",
       "      <td>Hartlepool</td>\n",
       "      <td>1954</td>\n",
       "      <td>North East</td>\n",
       "      <td>E06000001</td>\n",
       "      <td>Hartlepool</td>\n",
       "      <td>93,663.00</td>\n",
       "      <td>0.02</td>\n",
       "      <td>29.75</td>\n",
       "      <td>29.00</td>\n",
       "      <td>29.54</td>\n",
       "      <td>29.00</td>\n",
       "    </tr>\n",
       "    <tr>\n",
       "      <th>1</th>\n",
       "      <td>E01011950</td>\n",
       "      <td>Hartlepool 008A</td>\n",
       "      <td>E06000001</td>\n",
       "      <td>Hartlepool</td>\n",
       "      <td>Hartlepool</td>\n",
       "      <td>1257</td>\n",
       "      <td>North East</td>\n",
       "      <td>E06000001</td>\n",
       "      <td>Hartlepool</td>\n",
       "      <td>93,663.00</td>\n",
       "      <td>0.01</td>\n",
       "      <td>19.14</td>\n",
       "      <td>18.65</td>\n",
       "      <td>19.00</td>\n",
       "      <td>18.65</td>\n",
       "    </tr>\n",
       "    <tr>\n",
       "      <th>2</th>\n",
       "      <td>E01011951</td>\n",
       "      <td>Hartlepool 007A</td>\n",
       "      <td>E06000001</td>\n",
       "      <td>Hartlepool</td>\n",
       "      <td>Hartlepool</td>\n",
       "      <td>1209</td>\n",
       "      <td>North East</td>\n",
       "      <td>E06000001</td>\n",
       "      <td>Hartlepool</td>\n",
       "      <td>93,663.00</td>\n",
       "      <td>0.01</td>\n",
       "      <td>18.41</td>\n",
       "      <td>17.94</td>\n",
       "      <td>18.28</td>\n",
       "      <td>17.94</td>\n",
       "    </tr>\n",
       "    <tr>\n",
       "      <th>3</th>\n",
       "      <td>E01011952</td>\n",
       "      <td>Hartlepool 002A</td>\n",
       "      <td>E06000001</td>\n",
       "      <td>Hartlepool</td>\n",
       "      <td>Hartlepool</td>\n",
       "      <td>1740</td>\n",
       "      <td>North East</td>\n",
       "      <td>E06000001</td>\n",
       "      <td>Hartlepool</td>\n",
       "      <td>93,663.00</td>\n",
       "      <td>0.02</td>\n",
       "      <td>26.49</td>\n",
       "      <td>25.82</td>\n",
       "      <td>26.31</td>\n",
       "      <td>25.82</td>\n",
       "    </tr>\n",
       "    <tr>\n",
       "      <th>4</th>\n",
       "      <td>E01011953</td>\n",
       "      <td>Hartlepool 002B</td>\n",
       "      <td>E06000001</td>\n",
       "      <td>Hartlepool</td>\n",
       "      <td>Hartlepool</td>\n",
       "      <td>2033</td>\n",
       "      <td>North East</td>\n",
       "      <td>E06000001</td>\n",
       "      <td>Hartlepool</td>\n",
       "      <td>93,663.00</td>\n",
       "      <td>0.02</td>\n",
       "      <td>30.95</td>\n",
       "      <td>30.17</td>\n",
       "      <td>30.73</td>\n",
       "      <td>30.17</td>\n",
       "    </tr>\n",
       "  </tbody>\n",
       "</table>\n",
       "</div>"
      ],
      "text/plain": [
       "        Code             Name     LACode      LAName  \\\n",
       "0  E01011949  Hartlepool 009A  E06000001  Hartlepool   \n",
       "1  E01011950  Hartlepool 008A  E06000001  Hartlepool   \n",
       "2  E01011951  Hartlepool 007A  E06000001  Hartlepool   \n",
       "3  E01011952  Hartlepool 002A  E06000001  Hartlepool   \n",
       "4  E01011953  Hartlepool 002B  E06000001  Hartlepool   \n",
       "\n",
       "  LA name (2020 boundaries)  LSOAPopulation ITL1 Region    LA code  \\\n",
       "0                Hartlepool            1954  North East  E06000001   \n",
       "1                Hartlepool            1257  North East  E06000001   \n",
       "2                Hartlepool            1209  North East  E06000001   \n",
       "3                Hartlepool            1740  North East  E06000001   \n",
       "4                Hartlepool            2033  North East  E06000001   \n",
       "\n",
       "      LA name  LAPopulation  Population%  GDP2019LSOA  GDP2018LSOA  \\\n",
       "0  Hartlepool     93,663.00         0.02        29.75        29.00   \n",
       "1  Hartlepool     93,663.00         0.01        19.14        18.65   \n",
       "2  Hartlepool     93,663.00         0.01        18.41        17.94   \n",
       "3  Hartlepool     93,663.00         0.02        26.49        25.82   \n",
       "4  Hartlepool     93,663.00         0.02        30.95        30.17   \n",
       "\n",
       "   GDP2017LSOA  GDP2016LSOA  \n",
       "0        29.54        29.00  \n",
       "1        19.00        18.65  \n",
       "2        18.28        17.94  \n",
       "3        26.31        25.82  \n",
       "4        30.73        30.17  "
      ]
     },
     "execution_count": 38,
     "metadata": {},
     "output_type": "execute_result"
    }
   ],
   "source": [
    "#Dissaggregate GDP from local authority to LSOA/DZ\n",
    "\n",
    "\n",
    "# Create total LA population column\n",
    "GDP = GDP.merge(LAPopulations, how='left', left_on = 'LA code', right_on = 'LACode')\n",
    "\n",
    "#Merge GDP to lookups\n",
    "\n",
    "GDP = Lookups.merge(GDP, how='left', left_on = 'LACode', right_on = 'LA code')\n",
    "\n",
    "#create column of proportions of population per LSOA\n",
    "GDP.rename(columns = {'Population_x':'LSOAPopulation', \n",
    "                          'Population_y': 'LAPopulation'}, inplace = True)\n",
    "\n",
    "#Calculate GVA per LSOA using proportion of population (rough)\n",
    "GDP['Population%'] = GDP['LSOAPopulation']/GDP['LAPopulation']\n",
    "GDP['GDP2019LSOA'] = GDP['Population%'] * GDP['2019\\n[note 3]']\n",
    "GDP['GDP2018LSOA'] = GDP['Population%'] * GDP['2018']\n",
    "GDP['GDP2017LSOA'] = GDP['Population%'] * GDP['2017']\n",
    "GDP['GDP2016LSOA'] = GDP['Population%'] * GDP['2016']\n",
    "\n",
    "#drop unusued columns\n",
    "GDP.drop(['1998', '1999', '2000', '2001', '2002', '2003', '2004', \n",
    "         '2005', '2006', '2007', '2008', '2009', '2010', '2011', \n",
    "         '2012', '2013', '2014', '2015', '2016', '2017', '2018', '2019\\n[note 3]'], axis=1, inplace = True)\n",
    "\n",
    "GDP.head()"
   ]
  },
  {
   "cell_type": "markdown",
   "id": "1ec4688c",
   "metadata": {},
   "source": [
    "#### AHAH and IMD"
   ]
  },
  {
   "cell_type": "code",
   "execution_count": 39,
   "id": "178b47d2",
   "metadata": {
    "scrolled": true
   },
   "outputs": [
    {
     "data": {
      "text/html": [
       "<div>\n",
       "<style scoped>\n",
       "    .dataframe tbody tr th:only-of-type {\n",
       "        vertical-align: middle;\n",
       "    }\n",
       "\n",
       "    .dataframe tbody tr th {\n",
       "        vertical-align: top;\n",
       "    }\n",
       "\n",
       "    .dataframe thead th {\n",
       "        text-align: right;\n",
       "    }\n",
       "</style>\n",
       "<table border=\"1\" class=\"dataframe\">\n",
       "  <thead>\n",
       "    <tr style=\"text-align: right;\">\n",
       "      <th></th>\n",
       "      <th>Code</th>\n",
       "      <th>LSOA name (2011)</th>\n",
       "      <th>LA Name</th>\n",
       "      <th>Income Domain Rank</th>\n",
       "      <th>Employment Domain Rank</th>\n",
       "      <th>IMD Rank</th>\n",
       "      <th>AHAH</th>\n",
       "      <th>AHAH Rank</th>\n",
       "      <th>AHAH Decile</th>\n",
       "      <th>Name_x</th>\n",
       "      <th>...</th>\n",
       "      <th>LSOAPopulation_y</th>\n",
       "      <th>Region</th>\n",
       "      <th>LAU1 code</th>\n",
       "      <th>LA name_y</th>\n",
       "      <th>LAPopulation_y</th>\n",
       "      <th>Population%_y</th>\n",
       "      <th>GVA2016LSOA</th>\n",
       "      <th>GVA2015LSOA</th>\n",
       "      <th>GVA2014LSOA</th>\n",
       "      <th>GVA2013LSOA</th>\n",
       "    </tr>\n",
       "  </thead>\n",
       "  <tbody>\n",
       "    <tr>\n",
       "      <th>0</th>\n",
       "      <td>E01000001</td>\n",
       "      <td>City of London 001A</td>\n",
       "      <td>City of London</td>\n",
       "      <td>34,740.00</td>\n",
       "      <td>34,651.00</td>\n",
       "      <td>29199</td>\n",
       "      <td>50.13</td>\n",
       "      <td>41713</td>\n",
       "      <td>10</td>\n",
       "      <td>City of London 001A</td>\n",
       "      <td>...</td>\n",
       "      <td>1636</td>\n",
       "      <td>London</td>\n",
       "      <td>E09000001</td>\n",
       "      <td>City of London</td>\n",
       "      <td>9,721.00</td>\n",
       "      <td>0.17</td>\n",
       "      <td>880,137.37</td>\n",
       "      <td>863,973.94</td>\n",
       "      <td>957,640.62</td>\n",
       "      <td>920,796.37</td>\n",
       "    </tr>\n",
       "    <tr>\n",
       "      <th>1</th>\n",
       "      <td>E01000002</td>\n",
       "      <td>City of London 001B</td>\n",
       "      <td>City of London</td>\n",
       "      <td>31,762.00</td>\n",
       "      <td>33,081.00</td>\n",
       "      <td>30379</td>\n",
       "      <td>47.89</td>\n",
       "      <td>41647</td>\n",
       "      <td>10</td>\n",
       "      <td>City of London 001B</td>\n",
       "      <td>...</td>\n",
       "      <td>1558</td>\n",
       "      <td>London</td>\n",
       "      <td>E09000001</td>\n",
       "      <td>City of London</td>\n",
       "      <td>9,721.00</td>\n",
       "      <td>0.16</td>\n",
       "      <td>838,174.83</td>\n",
       "      <td>822,782.03</td>\n",
       "      <td>911,982.94</td>\n",
       "      <td>876,895.32</td>\n",
       "    </tr>\n",
       "    <tr>\n",
       "      <th>2</th>\n",
       "      <td>E01000003</td>\n",
       "      <td>City of London 001C</td>\n",
       "      <td>City of London</td>\n",
       "      <td>19,929.00</td>\n",
       "      <td>16,455.00</td>\n",
       "      <td>14915</td>\n",
       "      <td>45.21</td>\n",
       "      <td>41419</td>\n",
       "      <td>10</td>\n",
       "      <td>City of London 001C</td>\n",
       "      <td>...</td>\n",
       "      <td>1786</td>\n",
       "      <td>London</td>\n",
       "      <td>E09000001</td>\n",
       "      <td>City of London</td>\n",
       "      <td>9,721.00</td>\n",
       "      <td>0.18</td>\n",
       "      <td>960,834.56</td>\n",
       "      <td>943,189.15</td>\n",
       "      <td>1,045,443.85</td>\n",
       "      <td>1,005,221.47</td>\n",
       "    </tr>\n",
       "    <tr>\n",
       "      <th>3</th>\n",
       "      <td>E01000005</td>\n",
       "      <td>City of London 001E</td>\n",
       "      <td>City of London</td>\n",
       "      <td>6,542.00</td>\n",
       "      <td>8,679.00</td>\n",
       "      <td>8678</td>\n",
       "      <td>46.64</td>\n",
       "      <td>41564</td>\n",
       "      <td>10</td>\n",
       "      <td>City of London 001E</td>\n",
       "      <td>...</td>\n",
       "      <td>1888</td>\n",
       "      <td>London</td>\n",
       "      <td>E09000001</td>\n",
       "      <td>City of London</td>\n",
       "      <td>9,721.00</td>\n",
       "      <td>0.19</td>\n",
       "      <td>1,015,708.65</td>\n",
       "      <td>997,055.50</td>\n",
       "      <td>1,105,150.05</td>\n",
       "      <td>1,062,630.53</td>\n",
       "    </tr>\n",
       "    <tr>\n",
       "      <th>4</th>\n",
       "      <td>E01000006</td>\n",
       "      <td>Barking and Dagenham 016A</td>\n",
       "      <td>Barking and Dagenham</td>\n",
       "      <td>15,148.00</td>\n",
       "      <td>23,344.00</td>\n",
       "      <td>14486</td>\n",
       "      <td>36.80</td>\n",
       "      <td>39464</td>\n",
       "      <td>10</td>\n",
       "      <td>Barking and Dagenham 016A</td>\n",
       "      <td>...</td>\n",
       "      <td>2094</td>\n",
       "      <td>London</td>\n",
       "      <td>E09000002</td>\n",
       "      <td>Barking and Dagenham</td>\n",
       "      <td>212,906.00</td>\n",
       "      <td>0.01</td>\n",
       "      <td>188.05</td>\n",
       "      <td>181.88</td>\n",
       "      <td>180.90</td>\n",
       "      <td>170.82</td>\n",
       "    </tr>\n",
       "  </tbody>\n",
       "</table>\n",
       "<p>5 rows × 37 columns</p>\n",
       "</div>"
      ],
      "text/plain": [
       "        Code           LSOA name (2011)               LA Name  \\\n",
       "0  E01000001        City of London 001A        City of London   \n",
       "1  E01000002        City of London 001B        City of London   \n",
       "2  E01000003        City of London 001C        City of London   \n",
       "3  E01000005        City of London 001E        City of London   \n",
       "4  E01000006  Barking and Dagenham 016A  Barking and Dagenham   \n",
       "\n",
       "   Income Domain Rank  Employment Domain Rank  IMD Rank  AHAH  AHAH Rank  \\\n",
       "0           34,740.00               34,651.00     29199 50.13      41713   \n",
       "1           31,762.00               33,081.00     30379 47.89      41647   \n",
       "2           19,929.00               16,455.00     14915 45.21      41419   \n",
       "3            6,542.00                8,679.00      8678 46.64      41564   \n",
       "4           15,148.00               23,344.00     14486 36.80      39464   \n",
       "\n",
       "   AHAH Decile                     Name_x  ... LSOAPopulation_y  Region  \\\n",
       "0           10        City of London 001A  ...             1636  London   \n",
       "1           10        City of London 001B  ...             1558  London   \n",
       "2           10        City of London 001C  ...             1786  London   \n",
       "3           10        City of London 001E  ...             1888  London   \n",
       "4           10  Barking and Dagenham 016A  ...             2094  London   \n",
       "\n",
       "   LAU1 code             LA name_y LAPopulation_y Population%_y  GVA2016LSOA  \\\n",
       "0  E09000001        City of London       9,721.00          0.17   880,137.37   \n",
       "1  E09000001        City of London       9,721.00          0.16   838,174.83   \n",
       "2  E09000001        City of London       9,721.00          0.18   960,834.56   \n",
       "3  E09000001        City of London       9,721.00          0.19 1,015,708.65   \n",
       "4  E09000002  Barking and Dagenham     212,906.00          0.01       188.05   \n",
       "\n",
       "   GVA2015LSOA  GVA2014LSOA  GVA2013LSOA  \n",
       "0   863,973.94   957,640.62   920,796.37  \n",
       "1   822,782.03   911,982.94   876,895.32  \n",
       "2   943,189.15 1,045,443.85 1,005,221.47  \n",
       "3   997,055.50 1,105,150.05 1,062,630.53  \n",
       "4       181.88       180.90       170.82  \n",
       "\n",
       "[5 rows x 37 columns]"
      ]
     },
     "execution_count": 39,
     "metadata": {},
     "output_type": "execute_result"
    }
   ],
   "source": [
    "#merging public datasets, renamining columns and perfecting data types\n",
    "\n",
    "#merge AHAH and IMD\n",
    "df = IMD1920.merge(AHAH, how = 'left', left_on = 'Code', right_on = 'lsoa11')\n",
    "df.drop(['r_rank','h_rank', 'g_rank', 'e_rank', 'r_exp', 'h_exp', 'g_exp', 'e_exp', 'r_dec', 'h_dec', 'g_dec', 'e_dec','lsoa11'], axis=1, inplace = True)\n",
    "df.rename(columns = {'r_ahah':'AHAH Rank', 'd_ahah':'AHAH Decile', 'ahah':'AHAH'}, inplace = True)\n",
    "\n",
    "#merge with GDP and GVA\n",
    "df = df.merge(GDP, how = 'left', on = 'Code')\n",
    "df = df.merge(GVA, how = 'left', on = 'Code')\n",
    "\n",
    "df.head()"
   ]
  },
  {
   "cell_type": "code",
   "execution_count": 40,
   "id": "0dc577e6",
   "metadata": {
    "scrolled": true
   },
   "outputs": [
    {
     "data": {
      "text/html": [
       "<div>\n",
       "<style scoped>\n",
       "    .dataframe tbody tr th:only-of-type {\n",
       "        vertical-align: middle;\n",
       "    }\n",
       "\n",
       "    .dataframe tbody tr th {\n",
       "        vertical-align: top;\n",
       "    }\n",
       "\n",
       "    .dataframe thead th {\n",
       "        text-align: right;\n",
       "    }\n",
       "</style>\n",
       "<table border=\"1\" class=\"dataframe\">\n",
       "  <thead>\n",
       "    <tr style=\"text-align: right;\">\n",
       "      <th></th>\n",
       "      <th>Code</th>\n",
       "      <th>LSOA name (2011)</th>\n",
       "      <th>LA Name</th>\n",
       "      <th>Income Domain Rank</th>\n",
       "      <th>Employment Domain Rank</th>\n",
       "      <th>IMD Rank</th>\n",
       "      <th>AHAH</th>\n",
       "      <th>AHAH Rank</th>\n",
       "      <th>AHAH Decile</th>\n",
       "      <th>Name_x</th>\n",
       "      <th>...</th>\n",
       "      <th>LAPopulation_y</th>\n",
       "      <th>Population%_y</th>\n",
       "      <th>GVA2016LSOA</th>\n",
       "      <th>GVA2015LSOA</th>\n",
       "      <th>GVA2014LSOA</th>\n",
       "      <th>GVA2013LSOA</th>\n",
       "      <th>Name</th>\n",
       "      <th>Shape_Leng</th>\n",
       "      <th>Shape_Area</th>\n",
       "      <th>geometry</th>\n",
       "    </tr>\n",
       "  </thead>\n",
       "  <tbody>\n",
       "    <tr>\n",
       "      <th>0</th>\n",
       "      <td>E01000001</td>\n",
       "      <td>City of London 001A</td>\n",
       "      <td>City of London</td>\n",
       "      <td>34,740.00</td>\n",
       "      <td>34,651.00</td>\n",
       "      <td>29199</td>\n",
       "      <td>50.13</td>\n",
       "      <td>41713</td>\n",
       "      <td>10</td>\n",
       "      <td>City of London 001A</td>\n",
       "      <td>...</td>\n",
       "      <td>9,721.00</td>\n",
       "      <td>0.17</td>\n",
       "      <td>880,137.37</td>\n",
       "      <td>863,973.94</td>\n",
       "      <td>957,640.62</td>\n",
       "      <td>920,796.37</td>\n",
       "      <td>City of London 001A</td>\n",
       "      <td>2,635.77</td>\n",
       "      <td>129,865.31</td>\n",
       "      <td>POLYGON ((532151.537 181867.433, 532152.500 18...</td>\n",
       "    </tr>\n",
       "    <tr>\n",
       "      <th>1</th>\n",
       "      <td>E01000002</td>\n",
       "      <td>City of London 001B</td>\n",
       "      <td>City of London</td>\n",
       "      <td>31,762.00</td>\n",
       "      <td>33,081.00</td>\n",
       "      <td>30379</td>\n",
       "      <td>47.89</td>\n",
       "      <td>41647</td>\n",
       "      <td>10</td>\n",
       "      <td>City of London 001B</td>\n",
       "      <td>...</td>\n",
       "      <td>9,721.00</td>\n",
       "      <td>0.16</td>\n",
       "      <td>838,174.83</td>\n",
       "      <td>822,782.03</td>\n",
       "      <td>911,982.94</td>\n",
       "      <td>876,895.32</td>\n",
       "      <td>City of London 001B</td>\n",
       "      <td>2,707.88</td>\n",
       "      <td>228,419.63</td>\n",
       "      <td>POLYGON ((532634.497 181926.016, 532632.048 18...</td>\n",
       "    </tr>\n",
       "    <tr>\n",
       "      <th>2</th>\n",
       "      <td>E01000003</td>\n",
       "      <td>City of London 001C</td>\n",
       "      <td>City of London</td>\n",
       "      <td>19,929.00</td>\n",
       "      <td>16,455.00</td>\n",
       "      <td>14915</td>\n",
       "      <td>45.21</td>\n",
       "      <td>41419</td>\n",
       "      <td>10</td>\n",
       "      <td>City of London 001C</td>\n",
       "      <td>...</td>\n",
       "      <td>9,721.00</td>\n",
       "      <td>0.18</td>\n",
       "      <td>960,834.56</td>\n",
       "      <td>943,189.15</td>\n",
       "      <td>1,045,443.85</td>\n",
       "      <td>1,005,221.47</td>\n",
       "      <td>City of London 001C</td>\n",
       "      <td>1,224.64</td>\n",
       "      <td>59,054.35</td>\n",
       "      <td>POLYGON ((532153.703 182165.155, 532158.250 18...</td>\n",
       "    </tr>\n",
       "    <tr>\n",
       "      <th>3</th>\n",
       "      <td>E01000005</td>\n",
       "      <td>City of London 001E</td>\n",
       "      <td>City of London</td>\n",
       "      <td>6,542.00</td>\n",
       "      <td>8,679.00</td>\n",
       "      <td>8678</td>\n",
       "      <td>46.64</td>\n",
       "      <td>41564</td>\n",
       "      <td>10</td>\n",
       "      <td>City of London 001E</td>\n",
       "      <td>...</td>\n",
       "      <td>9,721.00</td>\n",
       "      <td>0.19</td>\n",
       "      <td>1,015,708.65</td>\n",
       "      <td>997,055.50</td>\n",
       "      <td>1,105,150.05</td>\n",
       "      <td>1,062,630.53</td>\n",
       "      <td>City of London 001E</td>\n",
       "      <td>2,275.81</td>\n",
       "      <td>189,577.71</td>\n",
       "      <td>POLYGON ((533619.062 181402.364, 533639.868 18...</td>\n",
       "    </tr>\n",
       "    <tr>\n",
       "      <th>4</th>\n",
       "      <td>E01000006</td>\n",
       "      <td>Barking and Dagenham 016A</td>\n",
       "      <td>Barking and Dagenham</td>\n",
       "      <td>15,148.00</td>\n",
       "      <td>23,344.00</td>\n",
       "      <td>14486</td>\n",
       "      <td>36.80</td>\n",
       "      <td>39464</td>\n",
       "      <td>10</td>\n",
       "      <td>Barking and Dagenham 016A</td>\n",
       "      <td>...</td>\n",
       "      <td>212,906.00</td>\n",
       "      <td>0.01</td>\n",
       "      <td>188.05</td>\n",
       "      <td>181.88</td>\n",
       "      <td>180.90</td>\n",
       "      <td>170.82</td>\n",
       "      <td>Barking and Dagenham 016A</td>\n",
       "      <td>1,966.09</td>\n",
       "      <td>146,537.00</td>\n",
       "      <td>POLYGON ((545126.852 184310.838, 545145.213 18...</td>\n",
       "    </tr>\n",
       "  </tbody>\n",
       "</table>\n",
       "<p>5 rows × 41 columns</p>\n",
       "</div>"
      ],
      "text/plain": [
       "        Code           LSOA name (2011)               LA Name  \\\n",
       "0  E01000001        City of London 001A        City of London   \n",
       "1  E01000002        City of London 001B        City of London   \n",
       "2  E01000003        City of London 001C        City of London   \n",
       "3  E01000005        City of London 001E        City of London   \n",
       "4  E01000006  Barking and Dagenham 016A  Barking and Dagenham   \n",
       "\n",
       "   Income Domain Rank  Employment Domain Rank  IMD Rank  AHAH  AHAH Rank  \\\n",
       "0           34,740.00               34,651.00     29199 50.13      41713   \n",
       "1           31,762.00               33,081.00     30379 47.89      41647   \n",
       "2           19,929.00               16,455.00     14915 45.21      41419   \n",
       "3            6,542.00                8,679.00      8678 46.64      41564   \n",
       "4           15,148.00               23,344.00     14486 36.80      39464   \n",
       "\n",
       "   AHAH Decile                     Name_x  ... LAPopulation_y Population%_y  \\\n",
       "0           10        City of London 001A  ...       9,721.00          0.17   \n",
       "1           10        City of London 001B  ...       9,721.00          0.16   \n",
       "2           10        City of London 001C  ...       9,721.00          0.18   \n",
       "3           10        City of London 001E  ...       9,721.00          0.19   \n",
       "4           10  Barking and Dagenham 016A  ...     212,906.00          0.01   \n",
       "\n",
       "   GVA2016LSOA  GVA2015LSOA  GVA2014LSOA  GVA2013LSOA  \\\n",
       "0   880,137.37   863,973.94   957,640.62   920,796.37   \n",
       "1   838,174.83   822,782.03   911,982.94   876,895.32   \n",
       "2   960,834.56   943,189.15 1,045,443.85 1,005,221.47   \n",
       "3 1,015,708.65   997,055.50 1,105,150.05 1,062,630.53   \n",
       "4       188.05       181.88       180.90       170.82   \n",
       "\n",
       "                        Name  Shape_Leng  Shape_Area  \\\n",
       "0        City of London 001A    2,635.77  129,865.31   \n",
       "1        City of London 001B    2,707.88  228,419.63   \n",
       "2        City of London 001C    1,224.64   59,054.35   \n",
       "3        City of London 001E    2,275.81  189,577.71   \n",
       "4  Barking and Dagenham 016A    1,966.09  146,537.00   \n",
       "\n",
       "                                            geometry  \n",
       "0  POLYGON ((532151.537 181867.433, 532152.500 18...  \n",
       "1  POLYGON ((532634.497 181926.016, 532632.048 18...  \n",
       "2  POLYGON ((532153.703 182165.155, 532158.250 18...  \n",
       "3  POLYGON ((533619.062 181402.364, 533639.868 18...  \n",
       "4  POLYGON ((545126.852 184310.838, 545145.213 18...  \n",
       "\n",
       "[5 rows x 41 columns]"
      ]
     },
     "execution_count": 40,
     "metadata": {},
     "output_type": "execute_result"
    }
   ],
   "source": [
    "#create geodataframe\n",
    "gdf = df.merge(lsoas, how='left', on = 'Code')\n",
    "gdf = gpd.GeoDataFrame(gdf, crs = \"epsg:27700\")\n",
    "gdf.head()\n",
    "\n",
    "#export if needed\n"
   ]
  },
  {
   "cell_type": "code",
   "execution_count": 41,
   "id": "0c706acd",
   "metadata": {
    "scrolled": true
   },
   "outputs": [
    {
     "data": {
      "text/plain": [
       "<AxesSubplot:>"
      ]
     },
     "execution_count": 41,
     "metadata": {},
     "output_type": "execute_result"
    },
    {
     "data": {
      "image/png": "[encoded data removed]",
      "text/plain": [
       "<Figure size 720x432 with 2 Axes>"
      ]
     },
     "metadata": {},
     "output_type": "display_data"
    }
   ],
   "source": [
    "#map \n",
    "fig, ax = plt.subplots(1,1)\n",
    "\n",
    "gdf.plot(column = 'AHAH',\n",
    "        ax=ax, \n",
    "        legend=True)"
   ]
  },
  {
   "cell_type": "markdown",
   "id": "4ea37db0",
   "metadata": {},
   "source": [
    "### Barbour ABI Data"
   ]
  },
  {
   "cell_type": "code",
   "execution_count": 42,
   "id": "89cfb90b",
   "metadata": {},
   "outputs": [
    {
     "name": "stdout",
     "output_type": "stream",
     "text": [
      "0        0.00\n",
      "1      426.66\n",
      "2        0.00\n",
      "3        0.00\n",
      "4      392.62\n",
      "        ...  \n",
      "3946      NaN\n",
      "3947      NaN\n",
      "3948      NaN\n",
      "3949      NaN\n",
      "3950      NaN\n",
      "Name: 2018, Length: 3951, dtype: float64\n"
     ]
    }
   ],
   "source": [
    "print(Utility['2018'])"
   ]
  },
  {
   "cell_type": "code",
   "execution_count": 43,
   "id": "7dada4e8",
   "metadata": {},
   "outputs": [],
   "source": [
    "#Total value column is actual value, the yearly value is per million. Therefore all yearly values must be multiplied by 1m\n",
    "\n",
    "#[Transport1,Transport2,Transport3,General,Primary,Secondary,University,Localhealth,Hospitals,Utility]\n",
    "\n",
    "#years = ['1995', '1996', '1997', '1998', '1999', '2000', '2001', '2002', '2003', '2004', '2005', '2006', \n",
    "#         '2007', '2008', '2009', '2010', '2011', '2012', '2013', '2014', '2015', '2016', '2017', '2018', \n",
    "#         '2019', '2021', '2022', '2023', '2024', '2025', '2026', '2027', '2028', '2029', '2030']\n",
    "\n",
    "#Transport1[years] = Transport1[years]*1000000\n",
    "#Transport2[years] = Transport2[years]*1000000\n",
    "#Transport3[years] = Transport3[years]*1000000\n",
    "#General[years] = General[years]*1000000\n",
    "#Primary[years] = Primary[years]*1000000\n",
    "#Secondary[years] = Secondary[years]*1000000\n",
    "#University[years] = University[years]*1000000\n",
    "#Localhealth[years] = Localhealth[years]*1000000\n",
    "#Hospitals[years] = Hospitals[years]*1000000\n",
    "#Utility[years] = Utility[years]*1000000"
   ]
  },
  {
   "cell_type": "code",
   "execution_count": 44,
   "id": "53bca810",
   "metadata": {},
   "outputs": [
    {
     "name": "stdout",
     "output_type": "stream",
     "text": [
      "0        0.00\n",
      "1      426.66\n",
      "2        0.00\n",
      "3        0.00\n",
      "4      392.62\n",
      "        ...  \n",
      "3946      NaN\n",
      "3947      NaN\n",
      "3948      NaN\n",
      "3949      NaN\n",
      "3950      NaN\n",
      "Name: 2018, Length: 3951, dtype: float64\n"
     ]
    }
   ],
   "source": [
    "print(Utility['2018'])"
   ]
  },
  {
   "cell_type": "markdown",
   "id": "e71f70a2",
   "metadata": {},
   "source": [
    "##### Spatial joining segmented project data by category to LSOAs"
   ]
  },
  {
   "cell_type": "code",
   "execution_count": 45,
   "id": "a63a7392",
   "metadata": {},
   "outputs": [],
   "source": [
    "# create geodataframe from BABI data and reproject\n",
    "BABIgdf = gpd.GeoDataFrame(\n",
    "    BABI, geometry=gpd.points_from_xy(BABI.Long, BABI.Lat, crs='epsg:4326'))\n",
    "\n",
    "BABIgdf = BABIgdf.to_crs('epsg:27700')\n",
    "\n",
    "# spatial join with lsoas\n",
    "BABIgdflsoas = gpd.sjoin(BABIgdf, lsoas, op='within', how='left')\n"
   ]
  },
  {
   "cell_type": "code",
   "execution_count": 46,
   "id": "f258ec8f",
   "metadata": {},
   "outputs": [],
   "source": [
    "# Transport 1 - create geodataframe from Transport1 data and reproject\n",
    "Tempgdf = gpd.GeoDataFrame(\n",
    "    Transport1, geometry=gpd.points_from_xy(Transport1.Long, Transport1.Lat, crs='epsg:4326'))\n",
    "\n",
    "Tempgdf = Tempgdf.to_crs('epsg:27700')\n",
    "\n",
    "# spatial join with lsoas\n",
    "Transport1gdflsoas = gpd.sjoin(Tempgdf, lsoas, op='within', how='left')"
   ]
  },
  {
   "cell_type": "code",
   "execution_count": 47,
   "id": "8e11db82",
   "metadata": {},
   "outputs": [],
   "source": [
    "# Transport 2 - create geodataframe from Transport1 data and reproject\n",
    "Tempgdf = gpd.GeoDataFrame(\n",
    "    Transport2, geometry=gpd.points_from_xy(Transport2.Long, Transport2.Lat, crs='epsg:4326'))\n",
    "\n",
    "Tempgdf = Tempgdf.to_crs('epsg:27700')\n",
    "\n",
    "# spatial join with lsoas\n",
    "Transport2gdflsoas = gpd.sjoin(Tempgdf, lsoas, op='within', how='left')"
   ]
  },
  {
   "cell_type": "code",
   "execution_count": 48,
   "id": "f0ce4ba6",
   "metadata": {},
   "outputs": [],
   "source": [
    "# Transport 3 - create geodataframe from Transport1 data and reproject\n",
    "Tempgdf = gpd.GeoDataFrame(\n",
    "    Transport3, geometry=gpd.points_from_xy(Transport3.Long, Transport3.Lat, crs='epsg:4326'))\n",
    "\n",
    "Tempgdf = Tempgdf.to_crs('epsg:27700')\n",
    "\n",
    "# spatial join with lsoas\n",
    "Transport3gdflsoas = gpd.sjoin(Tempgdf, lsoas, op='within', how='left')"
   ]
  },
  {
   "cell_type": "code",
   "execution_count": 49,
   "id": "68d1d191",
   "metadata": {},
   "outputs": [],
   "source": [
    "# General - create geodataframe from Transport1 data and reproject\n",
    "Tempgdf = gpd.GeoDataFrame(\n",
    "    General, geometry=gpd.points_from_xy(General.Long, General.Lat, crs='epsg:4326'))\n",
    "\n",
    "Tempgdf = Tempgdf.to_crs('epsg:27700')\n",
    "\n",
    "# spatial join with lsoas\n",
    "Generalgdflsoas = gpd.sjoin(Tempgdf, lsoas, op='within', how='left')"
   ]
  },
  {
   "cell_type": "code",
   "execution_count": 50,
   "id": "407571f9",
   "metadata": {},
   "outputs": [],
   "source": [
    "# Primary - create geodataframe from Transport1 data and reproject\n",
    "Tempgdf = gpd.GeoDataFrame(\n",
    "    Primary, geometry=gpd.points_from_xy(Primary.Long, Primary.Lat, crs='epsg:4326'))\n",
    "\n",
    "Tempgdf = Tempgdf.to_crs('epsg:27700')\n",
    "\n",
    "# spatial join with lsoas\n",
    "Primarygdflsoas = gpd.sjoin(Tempgdf, lsoas, op='within', how='left')\n"
   ]
  },
  {
   "cell_type": "code",
   "execution_count": 51,
   "id": "657973ac",
   "metadata": {},
   "outputs": [],
   "source": [
    "# Secondary - create geodataframe from Transport1 data and reproject\n",
    "Tempgdf = gpd.GeoDataFrame(\n",
    "    Secondary, geometry=gpd.points_from_xy(Secondary.Long, Secondary.Lat, crs='epsg:4326'))\n",
    "\n",
    "Tempgdf = Tempgdf.to_crs('epsg:27700')\n",
    "\n",
    "# spatial join with lsoas\n",
    "Secondarygdflsoas = gpd.sjoin(Tempgdf, lsoas, op='within', how='left')\n"
   ]
  },
  {
   "cell_type": "code",
   "execution_count": 52,
   "id": "ca94b930",
   "metadata": {},
   "outputs": [],
   "source": [
    "# University - create geodataframe from Transport1 data and reproject\n",
    "Tempgdf = gpd.GeoDataFrame(\n",
    "    University, geometry=gpd.points_from_xy(University.Long, University.Lat, crs='epsg:4326'))\n",
    "\n",
    "Tempgdf = Tempgdf.to_crs('epsg:27700')\n",
    "\n",
    "# spatial join with lsoas\n",
    "Universitygdflsoas = gpd.sjoin(Tempgdf, lsoas, op='within', how='left')"
   ]
  },
  {
   "cell_type": "code",
   "execution_count": 53,
   "id": "81bf8605",
   "metadata": {},
   "outputs": [],
   "source": [
    "# Localhealth - create geodataframe from Transport1 data and reproject\n",
    "Tempgdf = gpd.GeoDataFrame(\n",
    "    Localhealth, geometry=gpd.points_from_xy(Localhealth.Long, Localhealth.Lat, crs='epsg:4326'))\n",
    "\n",
    "Tempgdf = Tempgdf.to_crs('epsg:27700')\n",
    "\n",
    "# spatial join with lsoas\n",
    "Localhealthgdflsoas = gpd.sjoin(Tempgdf, lsoas, op='within', how='left')"
   ]
  },
  {
   "cell_type": "code",
   "execution_count": 54,
   "id": "59e9bb08",
   "metadata": {},
   "outputs": [],
   "source": [
    "# Hospitals - create geodataframe from Transport1 data and reproject\n",
    "Tempgdf = gpd.GeoDataFrame(\n",
    "    Hospitals, geometry=gpd.points_from_xy(Hospitals.Long, Hospitals.Lat, crs='epsg:4326'))\n",
    "\n",
    "Tempgdf = Tempgdf.to_crs('epsg:27700')\n",
    "\n",
    "# spatial join with lsoas\n",
    "Hospitalsgdflsoas = gpd.sjoin(Tempgdf, lsoas, op='within', how='left')"
   ]
  },
  {
   "cell_type": "code",
   "execution_count": 55,
   "id": "7ec22f69",
   "metadata": {},
   "outputs": [],
   "source": [
    "# Utility - create geodataframe from Transport1 data and reproject\n",
    "Tempgdf = gpd.GeoDataFrame(\n",
    "    Utility, geometry=gpd.points_from_xy(Utility.Long, Utility.Lat, crs='epsg:4326'))\n",
    "\n",
    "Tempgdf = Tempgdf.to_crs('epsg:27700')\n",
    "\n",
    "# spatial join with lsoas\n",
    "Utilitygdflsoas = gpd.sjoin(Tempgdf, lsoas, op='within', how='left')"
   ]
  },
  {
   "cell_type": "code",
   "execution_count": 56,
   "id": "7e4da3cf",
   "metadata": {},
   "outputs": [],
   "source": [
    "#[Transport1,Transport2,Transport3,General,Primary,Secondary,University,Localhealth,Hospitals,Utility]"
   ]
  },
  {
   "cell_type": "markdown",
   "id": "40f830b7",
   "metadata": {},
   "source": [
    "##### Summing all spend per LSOA"
   ]
  },
  {
   "cell_type": "code",
   "execution_count": 57,
   "id": "bf8c12ca",
   "metadata": {},
   "outputs": [],
   "source": [
    "#look at spending per lsoa and check correlations with socioeconomic indicators\n",
    "\n",
    "#group by lsoa code (sum)\n",
    "spending = BABIgdflsoas.groupby(by = 'Code').sum()\n",
    "spending.reset_index(inplace = True)\n",
    "\n",
    "#merge with lsoas so that 0 spending per lsoa is 0\n",
    "spending = lsoas.merge(spending, how='left', on = 'Code')"
   ]
  },
  {
   "cell_type": "code",
   "execution_count": 58,
   "id": "d8accb65",
   "metadata": {},
   "outputs": [],
   "source": [
    "#Transport 1 - group spending by LSOA\n",
    "\n",
    "#group by lsoa code (sum)\n",
    "Transport1spending = Transport1gdflsoas.groupby(by = 'Code').sum()\n",
    "Transport1spending.reset_index(inplace = True)\n",
    "\n",
    "#merge with lsoas so that 0 spending per lsoa is 0\n",
    "Transport1spending = lsoas.merge(spending, how='left', on = 'Code')"
   ]
  },
  {
   "cell_type": "code",
   "execution_count": 59,
   "id": "0ba5c7da",
   "metadata": {},
   "outputs": [],
   "source": [
    "#Transport 2 - group spending by LSOA\n",
    "\n",
    "#group by lsoa code (sum)\n",
    "Transport2spending = Transport2gdflsoas.groupby(by = 'Code').sum()\n",
    "Transport2spending.reset_index(inplace = True)\n",
    "\n",
    "#merge with lsoas so that 0 spending per lsoa is 0\n",
    "Transport2spending = lsoas.merge(spending, how='left', on = 'Code')"
   ]
  },
  {
   "cell_type": "code",
   "execution_count": 60,
   "id": "85be0853",
   "metadata": {},
   "outputs": [],
   "source": [
    "#Transport 3 - group spending by LSOA\n",
    "\n",
    "#group by lsoa code (sum)\n",
    "Transport3spending = Transport3gdflsoas.groupby(by = 'Code').sum()\n",
    "Transport3spending.reset_index(inplace = True)\n",
    "\n",
    "#merge with lsoas so that 0 spending per lsoa is 0\n",
    "Transport3spending = lsoas.merge(spending, how='left', on = 'Code')"
   ]
  },
  {
   "cell_type": "code",
   "execution_count": 61,
   "id": "cb1211b5",
   "metadata": {},
   "outputs": [],
   "source": [
    "#General - group spending by LSOA\n",
    "\n",
    "#group by lsoa code (sum)\n",
    "Generalspending = Generalgdflsoas.groupby(by = 'Code').sum()\n",
    "Generalspending.reset_index(inplace = True)\n",
    "\n",
    "#merge with lsoas so that 0 spending per lsoa is 0\n",
    "Generalspending = lsoas.merge(spending, how='left', on = 'Code')"
   ]
  },
  {
   "cell_type": "code",
   "execution_count": 62,
   "id": "1ab084bb",
   "metadata": {},
   "outputs": [],
   "source": [
    "#Primary - group spending by LSOA\n",
    "\n",
    "#group by lsoa code (sum)\n",
    "Primaryspending = Primarygdflsoas.groupby(by = 'Code').sum()\n",
    "Primaryspending.reset_index(inplace = True)\n",
    "\n",
    "#merge with lsoas so that 0 spending per lsoa is 0\n",
    "Primaryspending = lsoas.merge(spending, how='left', on = 'Code')"
   ]
  },
  {
   "cell_type": "code",
   "execution_count": 63,
   "id": "996fe1dc",
   "metadata": {},
   "outputs": [],
   "source": [
    "#Secondary - group spending by LSOA\n",
    "\n",
    "#group by lsoa code (sum)\n",
    "Secondaryspending = Secondarygdflsoas.groupby(by = 'Code').sum()\n",
    "Secondaryspending.reset_index(inplace = True)\n",
    "\n",
    "#merge with lsoas so that 0 spending per lsoa is 0\n",
    "Secondaryspending = lsoas.merge(spending, how='left', on = 'Code')"
   ]
  },
  {
   "cell_type": "code",
   "execution_count": 64,
   "id": "d2724609",
   "metadata": {},
   "outputs": [],
   "source": [
    "#University - group spending by LSOA\n",
    "\n",
    "#group by lsoa code (sum)\n",
    "Universityspending = Universitygdflsoas.groupby(by = 'Code').sum()\n",
    "Universityspending.reset_index(inplace = True)\n",
    "\n",
    "#merge with lsoas so that 0 spending per lsoa is 0\n",
    "Universityspending = lsoas.merge(spending, how='left', on = 'Code')"
   ]
  },
  {
   "cell_type": "code",
   "execution_count": 65,
   "id": "48a43e8e",
   "metadata": {},
   "outputs": [],
   "source": [
    "#Localhealth - group spending by LSOA\n",
    "\n",
    "#group by lsoa code (sum)\n",
    "Localhealthspending = Localhealthgdflsoas.groupby(by = 'Code').sum()\n",
    "Localhealthspending.reset_index(inplace = True)\n",
    "\n",
    "#merge with lsoas so that 0 spending per lsoa is 0\n",
    "Localhealthspending = lsoas.merge(spending, how='left', on = 'Code')"
   ]
  },
  {
   "cell_type": "code",
   "execution_count": 66,
   "id": "9ec5bc4b",
   "metadata": {},
   "outputs": [],
   "source": [
    "#Hospitals- group spending by LSOA\n",
    "\n",
    "#group by lsoa code (sum)\n",
    "Hospitalsspending = Hospitalsgdflsoas.groupby(by = 'Code').sum()\n",
    "Hospitalsspending.reset_index(inplace = True)\n",
    "\n",
    "#merge with lsoas so that 0 spending per lsoa is 0\n",
    "Hospitalsspending = lsoas.merge(spending, how='left', on = 'Code')"
   ]
  },
  {
   "cell_type": "code",
   "execution_count": 67,
   "id": "1ffadd22",
   "metadata": {},
   "outputs": [],
   "source": [
    "#Utility - group spending by LSOA\n",
    "\n",
    "#group by lsoa code (sum)\n",
    "Utilityspending = Utilitygdflsoas.groupby(by = 'Code').sum()\n",
    "Utilityspending.reset_index(inplace = True)\n",
    "\n",
    "#merge with lsoas so that 0 spending per lsoa is 0\n",
    "Utilityspending = lsoas.merge(spending, how='left', on = 'Code')"
   ]
  },
  {
   "cell_type": "code",
   "execution_count": 68,
   "id": "2c74b3f2",
   "metadata": {},
   "outputs": [],
   "source": [
    "#Transport1, Transport2, Transport3, Generalspending, Primaryspending, Secondaryspending, Universityspending, Localhealthspending, Hospitalsspending, Utilityspending"
   ]
  },
  {
   "cell_type": "markdown",
   "id": "6ecf599c",
   "metadata": {},
   "source": [
    "#### Scaling value of pound"
   ]
  },
  {
   "cell_type": "markdown",
   "id": "7279eef0",
   "metadata": {},
   "source": [
    "\n",
    "The infrastructure data must be wrangled into a format that includes total past spending, scaled to represent 2021 £ value, and total projected spending (which is assumed to be represented in 2021 £ value), *per sector*. The £scaling factors have been pulled from the ONS July 2021.\n"
   ]
  },
  {
   "cell_type": "code",
   "execution_count": 69,
   "id": "e8abd708",
   "metadata": {},
   "outputs": [],
   "source": [
    "#convert NaNs to 0s\n",
    "\n",
    "years = ['1995', '1996', '1997', '1998', '1999', '2000', '2001', '2002', '2003', '2004', '2005', '2006', \n",
    "         '2007', '2008', '2009', '2010', '2011', '2012', '2013', '2014', '2015', '2016', '2017', '2018', \n",
    "         '2019', '2021', '2022', '2023', '2024', '2025', '2026', '2027', '2028', '2029', '2030']\n",
    "\n",
    "Transport1spending[years] = Transport1spending[years].fillna(0)\n",
    "Transport2spending[years] = Transport2spending[years].fillna(0)\n",
    "Transport3spending[years] = Transport3spending[years].fillna(0)\n",
    "Generalspending[years] = Generalspending[years].fillna(0)\n",
    "Primaryspending[years] = Primaryspending[years].fillna(0)\n",
    "Secondaryspending[years] = Secondaryspending[years].fillna(0)\n",
    "Universityspending[years] = Universityspending[years].fillna(0)\n",
    "Localhealthspending[years] = Localhealthspending[years].fillna(0)\n",
    "Hospitalsspending[years] = Hospitalsspending[years].fillna(0)\n",
    "Utilityspending[years] = Utilityspending[years].fillna(0)"
   ]
  },
  {
   "cell_type": "code",
   "execution_count": 70,
   "id": "e6e2b64c",
   "metadata": {},
   "outputs": [
    {
     "data": {
      "text/html": [
       "<div>\n",
       "<style scoped>\n",
       "    .dataframe tbody tr th:only-of-type {\n",
       "        vertical-align: middle;\n",
       "    }\n",
       "\n",
       "    .dataframe tbody tr th {\n",
       "        vertical-align: top;\n",
       "    }\n",
       "\n",
       "    .dataframe thead th {\n",
       "        text-align: right;\n",
       "    }\n",
       "</style>\n",
       "<table border=\"1\" class=\"dataframe\">\n",
       "  <thead>\n",
       "    <tr style=\"text-align: right;\">\n",
       "      <th></th>\n",
       "      <th>Year</th>\n",
       "      <th>1989</th>\n",
       "      <th>1990</th>\n",
       "      <th>1991</th>\n",
       "      <th>1992</th>\n",
       "      <th>1993</th>\n",
       "      <th>1994</th>\n",
       "      <th>1995</th>\n",
       "      <th>1996</th>\n",
       "      <th>1997</th>\n",
       "      <th>...</th>\n",
       "      <th>2012</th>\n",
       "      <th>2013</th>\n",
       "      <th>2014</th>\n",
       "      <th>2015</th>\n",
       "      <th>2016</th>\n",
       "      <th>2017</th>\n",
       "      <th>2018</th>\n",
       "      <th>2019</th>\n",
       "      <th>2020</th>\n",
       "      <th>2021</th>\n",
       "    </tr>\n",
       "  </thead>\n",
       "  <tbody>\n",
       "    <tr>\n",
       "      <th>1</th>\n",
       "      <td>Scaling Factor</td>\n",
       "      <td>2.10</td>\n",
       "      <td>2.00</td>\n",
       "      <td>1.80</td>\n",
       "      <td>1.80</td>\n",
       "      <td>1.70</td>\n",
       "      <td>1.70</td>\n",
       "      <td>1.60</td>\n",
       "      <td>1.60</td>\n",
       "      <td>1.60</td>\n",
       "      <td>...</td>\n",
       "      <td>1.10</td>\n",
       "      <td>1.10</td>\n",
       "      <td>1.10</td>\n",
       "      <td>1.10</td>\n",
       "      <td>1.10</td>\n",
       "      <td>1.10</td>\n",
       "      <td>1.00</td>\n",
       "      <td>1.00</td>\n",
       "      <td>1.00</td>\n",
       "      <td>1.00</td>\n",
       "    </tr>\n",
       "  </tbody>\n",
       "</table>\n",
       "<p>1 rows × 34 columns</p>\n",
       "</div>"
      ],
      "text/plain": [
       "             Year  1989  1990  1991  1992  1993  1994  1995  1996  1997  ...  \\\n",
       "1  Scaling Factor  2.10  2.00  1.80  1.80  1.70  1.70  1.60  1.60  1.60  ...   \n",
       "\n",
       "   2012  2013  2014  2015  2016  2017  2018  2019  2020  2021  \n",
       "1  1.10  1.10  1.10  1.10  1.10  1.10  1.00  1.00  1.00  1.00  \n",
       "\n",
       "[1 rows x 34 columns]"
      ]
     },
     "execution_count": 70,
     "metadata": {},
     "output_type": "execute_result"
    }
   ],
   "source": [
    "#drop CPI row\n",
    "\n",
    "CPI = CPI.drop(CPI.index[0])\n",
    "\n",
    "\n",
    "CPI.head()"
   ]
  },
  {
   "cell_type": "code",
   "execution_count": 71,
   "id": "568a8c5e",
   "metadata": {},
   "outputs": [
    {
     "data": {
      "text/html": [
       "<div>\n",
       "<style scoped>\n",
       "    .dataframe tbody tr th:only-of-type {\n",
       "        vertical-align: middle;\n",
       "    }\n",
       "\n",
       "    .dataframe tbody tr th {\n",
       "        vertical-align: top;\n",
       "    }\n",
       "\n",
       "    .dataframe thead th {\n",
       "        text-align: right;\n",
       "    }\n",
       "</style>\n",
       "<table border=\"1\" class=\"dataframe\">\n",
       "  <thead>\n",
       "    <tr style=\"text-align: right;\">\n",
       "      <th></th>\n",
       "      <th>Code</th>\n",
       "      <th>Name_x</th>\n",
       "      <th>Shape_Leng</th>\n",
       "      <th>Shape_Area</th>\n",
       "      <th>geometry_x</th>\n",
       "      <th>Name_y</th>\n",
       "      <th>Shape_Leng_x</th>\n",
       "      <th>Shape_Area_x</th>\n",
       "      <th>geometry_y</th>\n",
       "      <th>Barbour ref</th>\n",
       "      <th>...</th>\n",
       "      <th>2024</th>\n",
       "      <th>2025</th>\n",
       "      <th>2026</th>\n",
       "      <th>2027</th>\n",
       "      <th>2028</th>\n",
       "      <th>2029</th>\n",
       "      <th>2030</th>\n",
       "      <th>index_right</th>\n",
       "      <th>Shape_Leng_y</th>\n",
       "      <th>Shape_Area_y</th>\n",
       "    </tr>\n",
       "  </thead>\n",
       "  <tbody>\n",
       "    <tr>\n",
       "      <th>0</th>\n",
       "      <td>E01000001</td>\n",
       "      <td>City of London 001A</td>\n",
       "      <td>2,635.77</td>\n",
       "      <td>129,865.31</td>\n",
       "      <td>POLYGON ((532151.537 181867.433, 532152.500 18...</td>\n",
       "      <td>City of London 001A</td>\n",
       "      <td>2,635.77</td>\n",
       "      <td>129,865.31</td>\n",
       "      <td>POLYGON ((532151.537 181867.433, 532152.500 18...</td>\n",
       "      <td>897,575,392.00</td>\n",
       "      <td>...</td>\n",
       "      <td>0.00</td>\n",
       "      <td>0.00</td>\n",
       "      <td>0.00</td>\n",
       "      <td>0.00</td>\n",
       "      <td>0.00</td>\n",
       "      <td>0.00</td>\n",
       "      <td>0.00</td>\n",
       "      <td>0.00</td>\n",
       "      <td>216,132.98</td>\n",
       "      <td>10,648,955.78</td>\n",
       "    </tr>\n",
       "    <tr>\n",
       "      <th>1</th>\n",
       "      <td>E01000002</td>\n",
       "      <td>City of London 001B</td>\n",
       "      <td>2,707.88</td>\n",
       "      <td>228,419.63</td>\n",
       "      <td>POLYGON ((532634.497 181926.016, 532632.048 18...</td>\n",
       "      <td>City of London 001B</td>\n",
       "      <td>2,707.88</td>\n",
       "      <td>228,419.63</td>\n",
       "      <td>POLYGON ((532634.497 181926.016, 532632.048 18...</td>\n",
       "      <td>103,453,999.00</td>\n",
       "      <td>...</td>\n",
       "      <td>8.34</td>\n",
       "      <td>4.15</td>\n",
       "      <td>0.00</td>\n",
       "      <td>0.00</td>\n",
       "      <td>0.00</td>\n",
       "      <td>0.00</td>\n",
       "      <td>0.00</td>\n",
       "      <td>9.00</td>\n",
       "      <td>24,370.94</td>\n",
       "      <td>2,055,776.71</td>\n",
       "    </tr>\n",
       "    <tr>\n",
       "      <th>2</th>\n",
       "      <td>E01000003</td>\n",
       "      <td>City of London 001C</td>\n",
       "      <td>1,224.64</td>\n",
       "      <td>59,054.35</td>\n",
       "      <td>POLYGON ((532153.703 182165.155, 532158.250 18...</td>\n",
       "      <td>City of London 001C</td>\n",
       "      <td>1,224.64</td>\n",
       "      <td>59,054.35</td>\n",
       "      <td>POLYGON ((532153.703 182165.155, 532158.250 18...</td>\n",
       "      <td>NaN</td>\n",
       "      <td>...</td>\n",
       "      <td>0.00</td>\n",
       "      <td>0.00</td>\n",
       "      <td>0.00</td>\n",
       "      <td>0.00</td>\n",
       "      <td>0.00</td>\n",
       "      <td>0.00</td>\n",
       "      <td>0.00</td>\n",
       "      <td>NaN</td>\n",
       "      <td>NaN</td>\n",
       "      <td>NaN</td>\n",
       "    </tr>\n",
       "    <tr>\n",
       "      <th>3</th>\n",
       "      <td>E01000005</td>\n",
       "      <td>City of London 001E</td>\n",
       "      <td>2,275.81</td>\n",
       "      <td>189,577.71</td>\n",
       "      <td>POLYGON ((533619.062 181402.364, 533639.868 18...</td>\n",
       "      <td>City of London 001E</td>\n",
       "      <td>2,275.81</td>\n",
       "      <td>189,577.71</td>\n",
       "      <td>POLYGON ((533619.062 181402.364, 533639.868 18...</td>\n",
       "      <td>35,957,607.00</td>\n",
       "      <td>...</td>\n",
       "      <td>0.00</td>\n",
       "      <td>0.00</td>\n",
       "      <td>0.00</td>\n",
       "      <td>0.00</td>\n",
       "      <td>0.00</td>\n",
       "      <td>0.00</td>\n",
       "      <td>0.00</td>\n",
       "      <td>9.00</td>\n",
       "      <td>6,827.42</td>\n",
       "      <td>568,733.13</td>\n",
       "    </tr>\n",
       "    <tr>\n",
       "      <th>4</th>\n",
       "      <td>E01000006</td>\n",
       "      <td>Barking and Dagenham 016A</td>\n",
       "      <td>1,966.09</td>\n",
       "      <td>146,537.00</td>\n",
       "      <td>POLYGON ((545126.852 184310.838, 545145.213 18...</td>\n",
       "      <td>Barking and Dagenham 016A</td>\n",
       "      <td>1,966.09</td>\n",
       "      <td>146,537.00</td>\n",
       "      <td>POLYGON ((545126.852 184310.838, 545145.213 18...</td>\n",
       "      <td>NaN</td>\n",
       "      <td>...</td>\n",
       "      <td>0.00</td>\n",
       "      <td>0.00</td>\n",
       "      <td>0.00</td>\n",
       "      <td>0.00</td>\n",
       "      <td>0.00</td>\n",
       "      <td>0.00</td>\n",
       "      <td>0.00</td>\n",
       "      <td>NaN</td>\n",
       "      <td>NaN</td>\n",
       "      <td>NaN</td>\n",
       "    </tr>\n",
       "  </tbody>\n",
       "</table>\n",
       "<p>5 rows × 53 columns</p>\n",
       "</div>"
      ],
      "text/plain": [
       "        Code                     Name_x  Shape_Leng  Shape_Area  \\\n",
       "0  E01000001        City of London 001A    2,635.77  129,865.31   \n",
       "1  E01000002        City of London 001B    2,707.88  228,419.63   \n",
       "2  E01000003        City of London 001C    1,224.64   59,054.35   \n",
       "3  E01000005        City of London 001E    2,275.81  189,577.71   \n",
       "4  E01000006  Barking and Dagenham 016A    1,966.09  146,537.00   \n",
       "\n",
       "                                          geometry_x  \\\n",
       "0  POLYGON ((532151.537 181867.433, 532152.500 18...   \n",
       "1  POLYGON ((532634.497 181926.016, 532632.048 18...   \n",
       "2  POLYGON ((532153.703 182165.155, 532158.250 18...   \n",
       "3  POLYGON ((533619.062 181402.364, 533639.868 18...   \n",
       "4  POLYGON ((545126.852 184310.838, 545145.213 18...   \n",
       "\n",
       "                      Name_y  Shape_Leng_x  Shape_Area_x  \\\n",
       "0        City of London 001A      2,635.77    129,865.31   \n",
       "1        City of London 001B      2,707.88    228,419.63   \n",
       "2        City of London 001C      1,224.64     59,054.35   \n",
       "3        City of London 001E      2,275.81    189,577.71   \n",
       "4  Barking and Dagenham 016A      1,966.09    146,537.00   \n",
       "\n",
       "                                          geometry_y    Barbour ref  ...  \\\n",
       "0  POLYGON ((532151.537 181867.433, 532152.500 18... 897,575,392.00  ...   \n",
       "1  POLYGON ((532634.497 181926.016, 532632.048 18... 103,453,999.00  ...   \n",
       "2  POLYGON ((532153.703 182165.155, 532158.250 18...            NaN  ...   \n",
       "3  POLYGON ((533619.062 181402.364, 533639.868 18...  35,957,607.00  ...   \n",
       "4  POLYGON ((545126.852 184310.838, 545145.213 18...            NaN  ...   \n",
       "\n",
       "   2024  2025  2026  2027  2028  2029  2030  index_right  Shape_Leng_y  \\\n",
       "0  0.00  0.00  0.00  0.00  0.00  0.00  0.00         0.00    216,132.98   \n",
       "1  8.34  4.15  0.00  0.00  0.00  0.00  0.00         9.00     24,370.94   \n",
       "2  0.00  0.00  0.00  0.00  0.00  0.00  0.00          NaN           NaN   \n",
       "3  0.00  0.00  0.00  0.00  0.00  0.00  0.00         9.00      6,827.42   \n",
       "4  0.00  0.00  0.00  0.00  0.00  0.00  0.00          NaN           NaN   \n",
       "\n",
       "   Shape_Area_y  \n",
       "0 10,648,955.78  \n",
       "1  2,055,776.71  \n",
       "2           NaN  \n",
       "3    568,733.13  \n",
       "4           NaN  \n",
       "\n",
       "[5 rows x 53 columns]"
      ]
     },
     "execution_count": 71,
     "metadata": {},
     "output_type": "execute_result"
    }
   ],
   "source": [
    "#Multiply columns by single values\n",
    "\n",
    "#1995\n",
    "\n",
    "n=CPI.iloc[0]['1995']\n",
    "\n",
    "Transport1spending['1995'] = Transport1spending['1995']*n\n",
    "Transport2spending['1995'] = Transport2spending['1995']*n\n",
    "Transport3spending['1995'] = Transport3spending['1995']*n\n",
    "Generalspending['1995'] = Generalspending['1995']*n\n",
    "Primaryspending['1995'] = Primaryspending['1995']*n\n",
    "Secondaryspending['1995'] = Secondaryspending['1995']*n\n",
    "Universityspending['1995'] = Universityspending['1995']*n\n",
    "Localhealthspending['1995'] = Localhealthspending['1995']*n\n",
    "Hospitalsspending['1995'] = Hospitalsspending['1995']*n\n",
    "Utilityspending['1995'] = Utilityspending['1995']*n\n",
    "\n",
    "Transport1spending.head()"
   ]
  },
  {
   "cell_type": "code",
   "execution_count": 72,
   "id": "8767545b",
   "metadata": {},
   "outputs": [],
   "source": [
    "#1996\n",
    "\n",
    "n=CPI.iloc[0]['1996']\n",
    "\n",
    "Transport1spending['1996'] = Transport1spending['1996']*n\n",
    "Transport2spending['1996'] = Transport2spending['1996']*n\n",
    "Transport3spending['1996'] = Transport3spending['1996']*n\n",
    "Generalspending['1996'] = Generalspending['1996']*n\n",
    "Primaryspending['1996'] = Primaryspending['1996']*n\n",
    "Secondaryspending['1996'] = Secondaryspending['1996']*n\n",
    "Universityspending['1996'] = Universityspending['1996']*n\n",
    "Localhealthspending['1996'] = Localhealthspending['1996']*n\n",
    "Hospitalsspending['1996'] = Hospitalsspending['1996']*n\n",
    "Utilityspending['1996'] = Utilityspending['1996']*n\n",
    "\n"
   ]
  },
  {
   "cell_type": "code",
   "execution_count": 73,
   "id": "d505d335",
   "metadata": {},
   "outputs": [],
   "source": [
    "#1997\n",
    "\n",
    "n=CPI.iloc[0]['1997']\n",
    "\n",
    "Transport1spending['1997'] = Transport1spending['1997']*n\n",
    "Transport2spending['1997'] = Transport2spending['1997']*n\n",
    "Transport3spending['1997'] = Transport3spending['1997']*n\n",
    "Generalspending['1997'] = Generalspending['1997']*n\n",
    "Primaryspending['1997'] = Primaryspending['1997']*n\n",
    "Secondaryspending['1997'] = Secondaryspending['1997']*n\n",
    "Universityspending['1997'] = Universityspending['1997']*n\n",
    "Localhealthspending['1997'] = Localhealthspending['1997']*n\n",
    "Hospitalsspending['1997'] = Hospitalsspending['1997']*n\n",
    "Utilityspending['1997'] = Utilityspending['1997']*n"
   ]
  },
  {
   "cell_type": "code",
   "execution_count": 74,
   "id": "7efe4f00",
   "metadata": {},
   "outputs": [],
   "source": [
    "#Transport1spending, Transport2, Transport3, Generalspending, Primaryspending, Secondaryspending, Universityspending, Localhealthspending, Hospitalsspending, Utilityspending"
   ]
  },
  {
   "cell_type": "code",
   "execution_count": 75,
   "id": "b3488d2b",
   "metadata": {},
   "outputs": [],
   "source": [
    "#1998\n",
    "\n",
    "n=CPI.iloc[0]['1998']\n",
    "\n",
    "Transport1spending['1998'] = Transport1spending['1998']*n\n",
    "Transport2spending['1998'] = Transport2spending['1998']*n\n",
    "Transport3spending['1998'] = Transport3spending['1998']*n\n",
    "Generalspending['1998'] = Generalspending['1998']*n\n",
    "Primaryspending['1998'] = Primaryspending['1998']*n\n",
    "Secondaryspending['1998'] = Secondaryspending['1998']*n\n",
    "Universityspending['1998'] = Universityspending['1998']*n\n",
    "Localhealthspending['1998'] = Localhealthspending['1998']*n\n",
    "Hospitalsspending['1998'] = Hospitalsspending['1998']*n\n",
    "Utilityspending['1998'] = Utilityspending['1998']*n"
   ]
  },
  {
   "cell_type": "code",
   "execution_count": 76,
   "id": "5b33123a",
   "metadata": {},
   "outputs": [],
   "source": [
    "#1999\n",
    "\n",
    "n=CPI.iloc[0]['1999']\n",
    "\n",
    "Transport1spending['1999'] = Transport1spending['1999']*n\n",
    "Transport2spending['1999'] = Transport2spending['1999']*n\n",
    "Transport3spending['1999'] = Transport3spending['1999']*n\n",
    "Generalspending['1999'] = Generalspending['1999']*n\n",
    "Primaryspending['1999'] = Primaryspending['1999']*n\n",
    "Secondaryspending['1999'] = Secondaryspending['1999']*n\n",
    "Universityspending['1999'] = Universityspending['1999']*n\n",
    "Localhealthspending['1999'] = Localhealthspending['1999']*n\n",
    "Hospitalsspending['1999'] = Hospitalsspending['1999']*n\n",
    "Utilityspending['1999'] = Utilityspending['1999']*n"
   ]
  },
  {
   "cell_type": "code",
   "execution_count": 77,
   "id": "9153d750",
   "metadata": {},
   "outputs": [],
   "source": [
    "#2000\n",
    "\n",
    "n=CPI.iloc[0]['2000']\n",
    "\n",
    "Transport1spending['2000'] = Transport1spending['2000']*n\n",
    "Transport2spending['2000'] = Transport2spending['2000']*n\n",
    "Transport3spending['2000'] = Transport3spending['2000']*n\n",
    "Generalspending['2000'] = Generalspending['2000']*n\n",
    "Primaryspending['2000'] = Primaryspending['2000']*n\n",
    "Secondaryspending['2000'] = Secondaryspending['2000']*n\n",
    "Universityspending['2000'] = Universityspending['2000']*n\n",
    "Localhealthspending['2000'] = Localhealthspending['2000']*n\n",
    "Hospitalsspending['2000'] = Hospitalsspending['2000']*n\n",
    "Utilityspending['2000'] = Utilityspending['2000']*n"
   ]
  },
  {
   "cell_type": "code",
   "execution_count": 78,
   "id": "067f5e9d",
   "metadata": {},
   "outputs": [],
   "source": [
    "#2001\n",
    "\n",
    "n=CPI.iloc[0]['2001']\n",
    "\n",
    "Transport1spending['2001'] = Transport1spending['2001']*n\n",
    "Transport2spending['2001'] = Transport2spending['2001']*n\n",
    "Transport3spending['2001'] = Transport3spending['2001']*n\n",
    "Generalspending['2001'] = Generalspending['2001']*n\n",
    "Primaryspending['2001'] = Primaryspending['2001']*n\n",
    "Secondaryspending['2001'] = Secondaryspending['2001']*n\n",
    "Universityspending['2001'] = Universityspending['2001']*n\n",
    "Localhealthspending['2001'] = Localhealthspending['2001']*n\n",
    "Hospitalsspending['2001'] = Hospitalsspending['2001']*n\n",
    "Utilityspending['2001'] = Utilityspending['2001']*n"
   ]
  },
  {
   "cell_type": "code",
   "execution_count": 79,
   "id": "06fc6ec5",
   "metadata": {},
   "outputs": [],
   "source": [
    "#2002\n",
    "\n",
    "n=CPI.iloc[0]['2002']\n",
    "\n",
    "Transport1spending['2002'] = Transport1spending['2002']*n\n",
    "Transport2spending['2002'] = Transport2spending['2002']*n\n",
    "Transport3spending['2002'] = Transport3spending['2002']*n\n",
    "Generalspending['2002'] = Generalspending['2002']*n\n",
    "Primaryspending['2002'] = Primaryspending['2002']*n\n",
    "Secondaryspending['2002'] = Secondaryspending['2002']*n\n",
    "Universityspending['2002'] = Universityspending['2002']*n\n",
    "Localhealthspending['2002'] = Localhealthspending['2002']*n\n",
    "Hospitalsspending['2002'] = Hospitalsspending['2002']*n\n",
    "Utilityspending['2002'] = Utilityspending['2002']*n"
   ]
  },
  {
   "cell_type": "code",
   "execution_count": 80,
   "id": "dcd398fb",
   "metadata": {},
   "outputs": [],
   "source": [
    "#2003\n",
    "\n",
    "n=CPI.iloc[0]['2003']\n",
    "\n",
    "Transport1spending['2003'] = Transport1spending['2003']*n\n",
    "Transport2spending['2003'] = Transport2spending['2003']*n\n",
    "Transport3spending['2003'] = Transport3spending['2003']*n\n",
    "Generalspending['2003'] = Generalspending['2003']*n\n",
    "Primaryspending['2003'] = Primaryspending['2003']*n\n",
    "Secondaryspending['2003'] = Secondaryspending['2003']*n\n",
    "Universityspending['2003'] = Universityspending['2003']*n\n",
    "Localhealthspending['2003'] = Localhealthspending['2003']*n\n",
    "Hospitalsspending['2003'] = Hospitalsspending['2003']*n\n",
    "Utilityspending['2003'] = Utilityspending['2003']*n"
   ]
  },
  {
   "cell_type": "code",
   "execution_count": 81,
   "id": "2091352d",
   "metadata": {},
   "outputs": [],
   "source": [
    "#2004\n",
    "\n",
    "n=CPI.iloc[0]['2004']\n",
    "\n",
    "Transport1spending['2004'] = Transport1spending['2004']*n\n",
    "Transport2spending['2004'] = Transport2spending['2004']*n\n",
    "Transport3spending['2004'] = Transport3spending['2004']*n\n",
    "Generalspending['2004'] = Generalspending['2004']*n\n",
    "Primaryspending['2004'] = Primaryspending['2004']*n\n",
    "Secondaryspending['2004'] = Secondaryspending['2004']*n\n",
    "Universityspending['2004'] = Universityspending['2004']*n\n",
    "Localhealthspending['2004'] = Localhealthspending['2004']*n\n",
    "Hospitalsspending['2004'] = Hospitalsspending['2004']*n\n",
    "Utilityspending['2004'] = Utilityspending['2004']*n"
   ]
  },
  {
   "cell_type": "code",
   "execution_count": 82,
   "id": "4d6684b8",
   "metadata": {},
   "outputs": [],
   "source": [
    "#2005\n",
    "\n",
    "n=CPI.iloc[0]['2005']\n",
    "\n",
    "Transport1spending['2005'] = Transport1spending['2005']*n\n",
    "Transport2spending['2005'] = Transport2spending['2005']*n\n",
    "Transport3spending['2005'] = Transport3spending['2005']*n\n",
    "Generalspending['2005'] = Generalspending['2005']*n\n",
    "Primaryspending['2005'] = Primaryspending['2005']*n\n",
    "Secondaryspending['2005'] = Secondaryspending['2005']*n\n",
    "Universityspending['2005'] = Universityspending['2005']*n\n",
    "Localhealthspending['2005'] = Localhealthspending['2005']*n\n",
    "Hospitalsspending['2005'] = Hospitalsspending['2005']*n\n",
    "Utilityspending['2005'] = Utilityspending['2005']*n"
   ]
  },
  {
   "cell_type": "code",
   "execution_count": 83,
   "id": "fec50587",
   "metadata": {},
   "outputs": [],
   "source": [
    "#2006\n",
    "\n",
    "n=CPI.iloc[0]['2006']\n",
    "\n",
    "Transport1spending['2006'] = Transport1spending['2006']*n\n",
    "Transport2spending['2006'] = Transport2spending['2006']*n\n",
    "Transport3spending['2006'] = Transport3spending['2006']*n\n",
    "Generalspending['2006'] = Generalspending['2006']*n\n",
    "Primaryspending['2006'] = Primaryspending['2006']*n\n",
    "Secondaryspending['2006'] = Secondaryspending['2006']*n\n",
    "Universityspending['2006'] = Universityspending['2006']*n\n",
    "Localhealthspending['2006'] = Localhealthspending['2006']*n\n",
    "Hospitalsspending['2006'] = Hospitalsspending['2006']*n\n",
    "Utilityspending['2006'] = Utilityspending['2006']*n"
   ]
  },
  {
   "cell_type": "code",
   "execution_count": 84,
   "id": "8a30ddcd",
   "metadata": {},
   "outputs": [],
   "source": [
    "#2007\n",
    "\n",
    "n=CPI.iloc[0]['2007']\n",
    "\n",
    "Transport1spending['2007'] = Transport1spending['2007']*n\n",
    "Transport2spending['2007'] = Transport2spending['2007']*n\n",
    "Transport3spending['2007'] = Transport3spending['2007']*n\n",
    "Generalspending['2007'] = Generalspending['2007']*n\n",
    "Primaryspending['2007'] = Primaryspending['2007']*n\n",
    "Secondaryspending['2007'] = Secondaryspending['2007']*n\n",
    "Universityspending['2007'] = Universityspending['2007']*n\n",
    "Localhealthspending['2007'] = Localhealthspending['2007']*n\n",
    "Hospitalsspending['2007'] = Hospitalsspending['2007']*n\n",
    "Utilityspending['2007'] = Utilityspending['2007']*n"
   ]
  },
  {
   "cell_type": "code",
   "execution_count": 85,
   "id": "b0cef35f",
   "metadata": {},
   "outputs": [],
   "source": [
    "#2008\n",
    "\n",
    "n=CPI.iloc[0]['2008']\n",
    "\n",
    "Transport1spending['2008'] = Transport1spending['2008']*n\n",
    "Transport2spending['2008'] = Transport2spending['2008']*n\n",
    "Transport3spending['2008'] = Transport3spending['2008']*n\n",
    "Generalspending['2008'] = Generalspending['2008']*n\n",
    "Primaryspending['2008'] = Primaryspending['2008']*n\n",
    "Secondaryspending['2008'] = Secondaryspending['2008']*n\n",
    "Universityspending['2008'] = Universityspending['2008']*n\n",
    "Localhealthspending['2008'] = Localhealthspending['2008']*n\n",
    "Hospitalsspending['2008'] = Hospitalsspending['2008']*n\n",
    "Utilityspending['2008'] = Utilityspending['2008']*n"
   ]
  },
  {
   "cell_type": "code",
   "execution_count": 86,
   "id": "588cfc95",
   "metadata": {},
   "outputs": [],
   "source": [
    "#2009\n",
    "\n",
    "n=CPI.iloc[0]['2009']\n",
    "\n",
    "Transport1spending['2009'] = Transport1spending['2009']*n\n",
    "Transport2spending['2009'] = Transport2spending['2009']*n\n",
    "Transport3spending['2009'] = Transport3spending['2009']*n\n",
    "Generalspending['2009'] = Generalspending['2009']*n\n",
    "Primaryspending['2009'] = Primaryspending['2009']*n\n",
    "Secondaryspending['2009'] = Secondaryspending['2009']*n\n",
    "Universityspending['2009'] = Universityspending['2009']*n\n",
    "Localhealthspending['2009'] = Localhealthspending['2009']*n\n",
    "Hospitalsspending['2009'] = Hospitalsspending['2009']*n\n",
    "Utilityspending['2009'] = Utilityspending['2009']*n"
   ]
  },
  {
   "cell_type": "code",
   "execution_count": 87,
   "id": "c6bbc2f5",
   "metadata": {},
   "outputs": [],
   "source": [
    "#2010\n",
    "\n",
    "n=CPI.iloc[0]['2010']\n",
    "\n",
    "Transport1spending['2010'] = Transport1spending['2010']*n\n",
    "Transport2spending['2010'] = Transport2spending['2010']*n\n",
    "Transport3spending['2010'] = Transport3spending['2010']*n\n",
    "Generalspending['2010'] = Generalspending['2010']*n\n",
    "Primaryspending['2010'] = Primaryspending['2010']*n\n",
    "Secondaryspending['2010'] = Secondaryspending['2010']*n\n",
    "Universityspending['2010'] = Universityspending['2010']*n\n",
    "Localhealthspending['2010'] = Localhealthspending['2010']*n\n",
    "Hospitalsspending['2010'] = Hospitalsspending['2010']*n\n",
    "Utilityspending['2010'] = Utilityspending['2010']*n"
   ]
  },
  {
   "cell_type": "code",
   "execution_count": 88,
   "id": "29526b3e",
   "metadata": {},
   "outputs": [],
   "source": [
    "#2011\n",
    "\n",
    "n=CPI.iloc[0]['2011']\n",
    "\n",
    "Transport1spending['2011'] = Transport1spending['2011']*n\n",
    "Transport2spending['2011'] = Transport2spending['2011']*n\n",
    "Transport3spending['2011'] = Transport3spending['2011']*n\n",
    "Generalspending['2011'] = Generalspending['2011']*n\n",
    "Primaryspending['2011'] = Primaryspending['2011']*n\n",
    "Secondaryspending['2011'] = Secondaryspending['2011']*n\n",
    "Universityspending['2011'] = Universityspending['2011']*n\n",
    "Localhealthspending['2011'] = Localhealthspending['2011']*n\n",
    "Hospitalsspending['2011'] = Hospitalsspending['2011']*n\n",
    "Utilityspending['2011'] = Utilityspending['2011']*n"
   ]
  },
  {
   "cell_type": "code",
   "execution_count": 89,
   "id": "3d0d5321",
   "metadata": {},
   "outputs": [],
   "source": [
    "#2012\n",
    "\n",
    "n=CPI.iloc[0]['2012']\n",
    "\n",
    "Transport1spending['2012'] = Transport1spending['2012']*n\n",
    "Transport2spending['2012'] = Transport2spending['2012']*n\n",
    "Transport3spending['2012'] = Transport3spending['2012']*n\n",
    "Generalspending['2012'] = Generalspending['2012']*n\n",
    "Primaryspending['2012'] = Primaryspending['2012']*n\n",
    "Secondaryspending['2012'] = Secondaryspending['2012']*n\n",
    "Universityspending['2012'] = Universityspending['2012']*n\n",
    "Localhealthspending['2012'] = Localhealthspending['2012']*n\n",
    "Hospitalsspending['2012'] = Hospitalsspending['2012']*n\n",
    "Utilityspending['2012'] = Utilityspending['2012']*n"
   ]
  },
  {
   "cell_type": "code",
   "execution_count": 90,
   "id": "f0933aea",
   "metadata": {},
   "outputs": [],
   "source": [
    "#2013\n",
    "\n",
    "n=CPI.iloc[0]['2013']\n",
    "\n",
    "Transport1spending['2013'] = Transport1spending['2013']*n\n",
    "Transport2spending['2013'] = Transport2spending['2013']*n\n",
    "Transport3spending['2013'] = Transport3spending['2013']*n\n",
    "Generalspending['2013'] = Generalspending['2013']*n\n",
    "Primaryspending['2013'] = Primaryspending['2013']*n\n",
    "Secondaryspending['2013'] = Secondaryspending['2013']*n\n",
    "Universityspending['2013'] = Universityspending['2013']*n\n",
    "Localhealthspending['2013'] = Localhealthspending['2013']*n\n",
    "Hospitalsspending['2013'] = Hospitalsspending['2013']*n\n",
    "Utilityspending['2013'] = Utilityspending['2013']*n"
   ]
  },
  {
   "cell_type": "code",
   "execution_count": 91,
   "id": "e6a94474",
   "metadata": {},
   "outputs": [],
   "source": [
    "#2014\n",
    "\n",
    "n=CPI.iloc[0]['2014']\n",
    "\n",
    "Transport1spending['2014'] = Transport1spending['2014']*n\n",
    "Transport2spending['2014'] = Transport2spending['2014']*n\n",
    "Transport3spending['2014'] = Transport3spending['2014']*n\n",
    "Generalspending['2014'] = Generalspending['2014']*n\n",
    "Primaryspending['2014'] = Primaryspending['2014']*n\n",
    "Secondaryspending['2014'] = Secondaryspending['2014']*n\n",
    "Universityspending['2014'] = Universityspending['2014']*n\n",
    "Localhealthspending['2014'] = Localhealthspending['2014']*n\n",
    "Hospitalsspending['2014'] = Hospitalsspending['2014']*n\n",
    "Utilityspending['2014'] = Utilityspending['2014']*n"
   ]
  },
  {
   "cell_type": "code",
   "execution_count": 92,
   "id": "12299160",
   "metadata": {},
   "outputs": [],
   "source": [
    "#2015\n",
    "\n",
    "n=CPI.iloc[0]['2015']\n",
    "\n",
    "Transport1spending['2015'] = Transport1spending['2015']*n\n",
    "Transport2spending['2015'] = Transport2spending['2015']*n\n",
    "Transport3spending['2015'] = Transport3spending['2015']*n\n",
    "Generalspending['2015'] = Generalspending['2015']*n\n",
    "Primaryspending['2015'] = Primaryspending['2015']*n\n",
    "Secondaryspending['2015'] = Secondaryspending['2015']*n\n",
    "Universityspending['2015'] = Universityspending['2015']*n\n",
    "Localhealthspending['2015'] = Localhealthspending['2015']*n\n",
    "Hospitalsspending['2015'] = Hospitalsspending['2015']*n\n",
    "Utilityspending['2015'] = Utilityspending['2015']*n"
   ]
  },
  {
   "cell_type": "code",
   "execution_count": 93,
   "id": "469b6dc1",
   "metadata": {},
   "outputs": [],
   "source": [
    "#2016\n",
    "\n",
    "n=CPI.iloc[0]['2016']\n",
    "\n",
    "Transport1spending['2016'] = Transport1spending['2016']*n\n",
    "Transport2spending['2016'] = Transport2spending['2016']*n\n",
    "Transport3spending['2016'] = Transport3spending['2016']*n\n",
    "Generalspending['2016'] = Generalspending['2016']*n\n",
    "Primaryspending['2016'] = Primaryspending['2016']*n\n",
    "Secondaryspending['2016'] = Secondaryspending['2016']*n\n",
    "Universityspending['2016'] = Universityspending['2016']*n\n",
    "Localhealthspending['2016'] = Localhealthspending['2016']*n\n",
    "Hospitalsspending['2016'] = Hospitalsspending['2016']*n\n",
    "Utilityspending['2016'] = Utilityspending['2016']*n"
   ]
  },
  {
   "cell_type": "code",
   "execution_count": 94,
   "id": "78ff8a69",
   "metadata": {},
   "outputs": [],
   "source": [
    "#2017\n",
    "\n",
    "n=CPI.iloc[0]['2017']\n",
    "\n",
    "Transport1spending['2017'] = Transport1spending['2017']*n\n",
    "Transport2spending['2017'] = Transport2spending['2017']*n\n",
    "Transport3spending['2017'] = Transport3spending['2017']*n\n",
    "Generalspending['2017'] = Generalspending['2017']*n\n",
    "Primaryspending['2017'] = Primaryspending['2017']*n\n",
    "Secondaryspending['2017'] = Secondaryspending['2017']*n\n",
    "Universityspending['2017'] = Universityspending['2017']*n\n",
    "Localhealthspending['2017'] = Localhealthspending['2017']*n\n",
    "Hospitalsspending['2017'] = Hospitalsspending['2017']*n\n",
    "Utilityspending['2017'] = Utilityspending['2017']*n"
   ]
  },
  {
   "cell_type": "code",
   "execution_count": 95,
   "id": "cc270b21",
   "metadata": {},
   "outputs": [],
   "source": [
    "#2018\n",
    "\n",
    "n=CPI.iloc[0]['2018']\n",
    "\n",
    "Transport1spending['2018'] = Transport1spending['2018']*n\n",
    "Transport2spending['2018'] = Transport2spending['2018']*n\n",
    "Transport3spending['2018'] = Transport3spending['2018']*n\n",
    "Generalspending['2018'] = Generalspending['2018']*n\n",
    "Primaryspending['2018'] = Primaryspending['2018']*n\n",
    "Secondaryspending['2018'] = Secondaryspending['2018']*n\n",
    "Universityspending['2018'] = Universityspending['2018']*n\n",
    "Localhealthspending['2018'] = Localhealthspending['2018']*n\n",
    "Hospitalsspending['2018'] = Hospitalsspending['2018']*n\n",
    "Utilityspending['2018'] = Utilityspending['2018']*n"
   ]
  },
  {
   "cell_type": "code",
   "execution_count": 96,
   "id": "cbe8b6e7",
   "metadata": {},
   "outputs": [],
   "source": [
    "#2019\n",
    "\n",
    "n=CPI.iloc[0]['2019']\n",
    "\n",
    "Transport1spending['2019'] = Transport1spending['2019']*n\n",
    "Transport2spending['2019'] = Transport2spending['2019']*n\n",
    "Transport3spending['2019'] = Transport3spending['2019']*n\n",
    "Generalspending['2019'] = Generalspending['2019']*n\n",
    "Primaryspending['2019'] = Primaryspending['2019']*n\n",
    "Secondaryspending['2019'] = Secondaryspending['2019']*n\n",
    "Universityspending['2019'] = Universityspending['2019']*n\n",
    "Localhealthspending['2019'] = Localhealthspending['2019']*n\n",
    "Hospitalsspending['2019'] = Hospitalsspending['2019']*n\n",
    "Utilityspending['2019'] = Utilityspending['2019']*n"
   ]
  },
  {
   "cell_type": "code",
   "execution_count": 97,
   "id": "3c066a2b",
   "metadata": {},
   "outputs": [],
   "source": [
    "#2020\n",
    "\n",
    "n=CPI.iloc[0]['2020']\n",
    "\n",
    "Transport1spending['2020'] = Transport1spending['2020']*n\n",
    "Transport2spending['2020'] = Transport2spending['2020']*n\n",
    "Transport3spending['2020'] = Transport3spending['2020']*n\n",
    "Generalspending['2020'] = Generalspending['2020']*n\n",
    "Primaryspending['2020'] = Primaryspending['2020']*n\n",
    "Secondaryspending['2020'] = Secondaryspending['2020']*n\n",
    "Universityspending['2020'] = Universityspending['2020']*n\n",
    "Localhealthspending['2020'] = Localhealthspending['2020']*n\n",
    "Hospitalsspending['2020'] = Hospitalsspending['2020']*n\n",
    "Utilityspending['2020'] = Utilityspending['2020']*n"
   ]
  },
  {
   "cell_type": "code",
   "execution_count": 98,
   "id": "ae765bb6",
   "metadata": {},
   "outputs": [],
   "source": [
    "#2021\n",
    "\n",
    "#n=CPI['2021']\n",
    "n = CPI.iloc[0]['2021']\n",
    "\n",
    "Transport1spending['2021'] = Transport1spending['2021']*n\n",
    "Transport2spending['2021'] = Transport2spending['2021']*n\n",
    "Transport3spending['2021'] = Transport3spending['2021']*n\n",
    "Generalspending['2021'] = Generalspending['2021']*n\n",
    "Primaryspending['2021'] = Primaryspending['2021']*n\n",
    "Secondaryspending['2021'] = Secondaryspending['2021']*n\n",
    "Universityspending['2021'] = Universityspending['2021']*n\n",
    "Localhealthspending['2021'] = Localhealthspending['2021']*n\n",
    "Hospitalsspending['2021'] = Hospitalsspending['2021']*n\n",
    "Utilityspending['2021'] = Utilityspending['2021']*n"
   ]
  },
  {
   "cell_type": "code",
   "execution_count": 99,
   "id": "edaf3925",
   "metadata": {},
   "outputs": [
    {
     "name": "stdout",
     "output_type": "stream",
     "text": [
      "(41729, 53)\n",
      "(41729, 53)\n",
      "(41729, 53)\n",
      "(41729, 53)\n",
      "(41729, 53)\n",
      "(41729, 53)\n",
      "(41729, 53)\n",
      "(41729, 53)\n",
      "(41729, 53)\n",
      "(41729, 53)\n"
     ]
    }
   ],
   "source": [
    "#check shapes of each spending dataframe - they should all represent all LSOAs\n",
    "print(Transport1spending.shape)\n",
    "print(Transport2spending.shape)\n",
    "print(Transport3spending.shape)\n",
    "print(Generalspending.shape)\n",
    "print(Primaryspending.shape)\n",
    "print(Secondaryspending.shape)\n",
    "print(Universityspending.shape)\n",
    "print(Localhealthspending.shape)\n",
    "print(Hospitalsspending.shape)\n",
    "print(Utilityspending.shape)"
   ]
  },
  {
   "cell_type": "markdown",
   "id": "6f4792c5",
   "metadata": {},
   "source": [
    "#### Sum past and future spending per category"
   ]
  },
  {
   "cell_type": "code",
   "execution_count": 100,
   "id": "19a8bbf4",
   "metadata": {},
   "outputs": [],
   "source": [
    "#set years that are future and past\n",
    "\n",
    "futureyears = ['2021','2022', '2023', '2024', '2025', '2026', '2027', '2028', '2029', '2030']\n",
    "\n",
    "pastyears = ['1995', '1996', '1997', '1998', '1999', '2000', '2001', '2002', '2003', '2004', \n",
    "             '2005', '2006', '2007', '2008', '2009', '2010', '2011', '2012', '2013', '2014', \n",
    "             '2015', '2016', '2017', '2018', '2019', '2020']"
   ]
  },
  {
   "cell_type": "code",
   "execution_count": 101,
   "id": "ccb4c302",
   "metadata": {},
   "outputs": [],
   "source": [
    "Transport1spending['FutureValue'] = Transport1spending[futureyears].sum(axis=1)\n",
    "Transport2spending['FutureValue'] = Transport2spending[futureyears].sum(axis=1)\n",
    "Transport3spending['FutureValue'] = Transport3spending[futureyears].sum(axis=1)\n",
    "Generalspending['FutureValue'] = Generalspending[futureyears].sum(axis=1)\n",
    "Primaryspending['FutureValue'] = Primaryspending[futureyears].sum(axis=1)\n",
    "Secondaryspending['FutureValue'] = Secondaryspending[futureyears].sum(axis=1)\n",
    "Universityspending['FutureValue'] = Universityspending[futureyears].sum(axis=1)\n",
    "Localhealthspending['FutureValue'] = Localhealthspending[futureyears].sum(axis=1)\n",
    "Hospitalsspending['FutureValue'] = Hospitalsspending[futureyears].sum(axis=1)\n",
    "Utilityspending['FutureValue'] = Utilityspending[futureyears].sum(axis=1)"
   ]
  },
  {
   "cell_type": "code",
   "execution_count": 102,
   "id": "eb51024d",
   "metadata": {},
   "outputs": [],
   "source": [
    "Transport1spending['PastValue'] = Transport1spending[pastyears].sum(axis=1)\n",
    "Transport2spending['PastValue'] = Transport2spending[pastyears].sum(axis=1)\n",
    "Transport3spending['PastValue'] = Transport3spending[pastyears].sum(axis=1)\n",
    "Generalspending['PastValue'] = Generalspending[pastyears].sum(axis=1)\n",
    "Primaryspending['PastValue'] = Primaryspending[pastyears].sum(axis=1)\n",
    "Secondaryspending['PastValue'] = Secondaryspending[pastyears].sum(axis=1)\n",
    "Universityspending['PastValue'] = Universityspending[pastyears].sum(axis=1)\n",
    "Localhealthspending['PastValue'] = Localhealthspending[pastyears].sum(axis=1)\n",
    "Hospitalsspending['PastValue'] = Hospitalsspending[pastyears].sum(axis=1)\n",
    "Utilityspending['PastValue'] = Utilityspending[pastyears].sum(axis=1)"
   ]
  },
  {
   "cell_type": "code",
   "execution_count": 103,
   "id": "0cd58982",
   "metadata": {},
   "outputs": [],
   "source": [
    "#Create one transport spending dataframe\n",
    "\n",
    "frames = [Transport1spending, Transport2spending, Transport3spending]\n",
    "\n",
    "Transportspendingall = pd.concat(frames)\n"
   ]
  },
  {
   "cell_type": "code",
   "execution_count": 104,
   "id": "016bb090",
   "metadata": {},
   "outputs": [],
   "source": [
    "#CHECK\n",
    "#Hospitalsspending.to_csv('hospitalscheck.csv')"
   ]
  },
  {
   "cell_type": "code",
   "execution_count": 105,
   "id": "e0cc2e20",
   "metadata": {},
   "outputs": [],
   "source": [
    "#drop columns and tidy up\n",
    "Transport1spending.drop(['index_right','Shape_Leng_y', 'Shape_Area_y', 'Barbour ref', 'Project Link ID'], axis=1, inplace = True)\n",
    "Transport2spending.drop(['index_right','Shape_Leng_y', 'Shape_Area_y', 'Barbour ref', 'Project Link ID'], axis=1, inplace = True)\n",
    "Transport3spending.drop(['index_right','Shape_Leng_y', 'Shape_Area_y', 'Barbour ref', 'Project Link ID'], axis=1, inplace = True)\n",
    "Generalspending.drop(['index_right','Shape_Leng_y', 'Shape_Area_y', 'Barbour ref', 'Project Link ID'], axis=1, inplace = True)\n",
    "Primaryspending.drop(['index_right','Shape_Leng_y', 'Shape_Area_y', 'Barbour ref', 'Project Link ID'], axis=1, inplace = True)\n",
    "Secondaryspending.drop(['index_right','Shape_Leng_y', 'Shape_Area_y', 'Barbour ref', 'Project Link ID'], axis=1, inplace = True)\n",
    "Universityspending.drop(['index_right','Shape_Leng_y', 'Shape_Area_y', 'Barbour ref', 'Project Link ID'], axis=1, inplace = True)\n",
    "Localhealthspending.drop(['index_right','Shape_Leng_y', 'Shape_Area_y', 'Barbour ref', 'Project Link ID'], axis=1, inplace = True)\n",
    "Hospitalsspending.drop(['index_right','Shape_Leng_y', 'Shape_Area_y', 'Barbour ref', 'Project Link ID'], axis=1, inplace = True)\n",
    "Utilityspending.drop(['index_right','Shape_Leng_y', 'Shape_Area_y', 'Barbour ref', 'Project Link ID'], axis=1, inplace = True)\n"
   ]
  },
  {
   "cell_type": "markdown",
   "id": "24877ad2",
   "metadata": {},
   "source": [
    "## Creating Spatial Area of Benefit"
   ]
  },
  {
   "cell_type": "markdown",
   "id": "d0eea086",
   "metadata": {},
   "source": [
    "Spatial Area of Benefit per category:  \n",
    "  \n",
    "- Transport 1: Local Authority  \n",
    "- Transport 2: NUTS2 \n",
    "- Transport 3: NUTS1  \n",
    "  \n",
    "- General/Essential: Local Authority  \n",
    "- Primary and Nursery: Local Authority  \n",
    "- Secondary and Special: Local Authority  \n",
    "- University/ Colleges and Training: NUTS2\n",
    "- Local healthcare: Local Authority  \n",
    "- Hospitals: Local Authority  \n",
    "- Utility: Local Authority  "
   ]
  },
  {
   "cell_type": "code",
   "execution_count": 106,
   "id": "86a94e75",
   "metadata": {},
   "outputs": [],
   "source": [
    "#Merging lookup with all dataframes to provide different geographic locations\n",
    "Transport1spending = Transport1spending.merge(NUTSLookups, left_on='Code', right_on='LSOA Code')\n",
    "Transport2spending = Transport2spending.merge(NUTSLookups, left_on='Code', right_on='LSOA Code')\n",
    "Transport3spending = Transport3spending.merge(NUTSLookups, left_on='Code', right_on='LSOA Code')\n",
    "Generalspending = Generalspending.merge(NUTSLookups, left_on='Code', right_on='LSOA Code')\n",
    "Primaryspending = Primaryspending.merge(NUTSLookups, left_on='Code', right_on='LSOA Code')\n",
    "Secondaryspending = Secondaryspending.merge(NUTSLookups, left_on='Code', right_on='LSOA Code')\n",
    "Universityspending = Universityspending.merge(NUTSLookups, left_on='Code', right_on='LSOA Code')\n",
    "Localhealthspending = Localhealthspending.merge(NUTSLookups, left_on='Code', right_on='LSOA Code')\n",
    "Hospitalsspending = Hospitalsspending.merge(NUTSLookups, left_on='Code', right_on='LSOA Code')\n",
    "Utilityspending = Utilityspending.merge(NUTSLookups, left_on='Code', right_on='LSOA Code')"
   ]
  },
  {
   "cell_type": "code",
   "execution_count": 107,
   "id": "acede58b",
   "metadata": {},
   "outputs": [],
   "source": [
    "#drop the value by year\n",
    "\n",
    "years= ['2021','2022', '2023', '2024', '2025', '2026', '2027', '2028', '2029', '2030', \n",
    "               '1995', '1996', '1997', '1998', '1999', '2000', '2001', '2002', '2003', '2004', \n",
    "             '2005', '2006', '2007', '2008', '2009', '2010', '2011', '2012', '2013', '2014', \n",
    "             '2015', '2016', '2017', '2018', '2019', '2020']\n",
    "\n",
    "Transport1spending.drop(years, axis = 1, inplace = True)\n",
    "Transport2spending.drop(years, axis = 1, inplace = True)\n",
    "Transport3spending.drop(years, axis = 1, inplace = True)\n",
    "Generalspending.drop(years, axis = 1, inplace = True)\n",
    "Primaryspending.drop(years, axis = 1, inplace = True)\n",
    "Secondaryspending.drop(years, axis = 1, inplace = True)\n",
    "Universityspending.drop(years, axis = 1, inplace = True)\n",
    "Localhealthspending.drop(years, axis = 1, inplace = True)\n",
    "Hospitalsspending.drop(years, axis = 1, inplace = True)\n",
    "Utilityspending.drop(years, axis = 1, inplace = True)"
   ]
  },
  {
   "cell_type": "code",
   "execution_count": 108,
   "id": "ed6a820c",
   "metadata": {},
   "outputs": [
    {
     "name": "stdout",
     "output_type": "stream",
     "text": [
      "(41729, 29)\n",
      "(41729, 29)\n",
      "(41729, 29)\n",
      "(41729, 29)\n",
      "(41729, 29)\n",
      "(41729, 29)\n",
      "(41729, 29)\n",
      "(41729, 29)\n",
      "(41729, 29)\n",
      "(41729, 29)\n"
     ]
    }
   ],
   "source": [
    "#check shapes of each spending dataframe - they should all represent all LSOAs\n",
    "print(Transport1spending.shape)\n",
    "print(Transport2spending.shape)\n",
    "print(Transport3spending.shape)\n",
    "print(Generalspending.shape)\n",
    "print(Primaryspending.shape)\n",
    "print(Secondaryspending.shape)\n",
    "print(Universityspending.shape)\n",
    "print(Localhealthspending.shape)\n",
    "print(Hospitalsspending.shape)\n",
    "print(Utilityspending.shape)"
   ]
  },
  {
   "cell_type": "code",
   "execution_count": 109,
   "id": "3f2c13ea",
   "metadata": {},
   "outputs": [],
   "source": [
    "#Aggregating value per associated area\n",
    "Transport1 = Transport1spending.groupby(by = 'LA Code (2019 boundaries)').sum().reset_index()\n",
    "Transport2 = Transport2spending.groupby(by = 'NUTS2 Name').sum().reset_index()\n",
    "Transport3 = Transport3spending.groupby(by = 'NUTS1 Name').sum().reset_index()\n",
    "General = Generalspending.groupby(by = 'LA Code (2019 boundaries)').sum().reset_index()\n",
    "Primary = Primaryspending.groupby(by = 'LA Code (2019 boundaries)').sum().reset_index()\n",
    "Secondary = Secondaryspending.groupby(by = 'LA Code (2019 boundaries)').sum().reset_index()\n",
    "University = Universityspending.groupby(by = 'NUTS2 Name').sum().reset_index()\n",
    "Localhealth = Localhealthspending.groupby(by = 'LA Code (2019 boundaries)').sum().reset_index()\n",
    "Hospitals = Hospitalsspending.groupby(by = 'LA Code (2019 boundaries)').sum().reset_index()\n",
    "Utility = Utilityspending.groupby(by = 'LA Code (2019 boundaries)').sum().reset_index()"
   ]
  },
  {
   "cell_type": "code",
   "execution_count": 110,
   "id": "83e86b77",
   "metadata": {},
   "outputs": [
    {
     "name": "stdout",
     "output_type": "stream",
     "text": [
      "(371, 11)\n",
      "(42, 11)\n",
      "(11, 11)\n",
      "(371, 11)\n",
      "(371, 11)\n",
      "(371, 11)\n",
      "(42, 11)\n",
      "(371, 11)\n",
      "(371, 11)\n",
      "(371, 11)\n"
     ]
    }
   ],
   "source": [
    "#check shapes of each spending dataframe - they should all have different numbers of rows\n",
    "print(Transport1.shape)\n",
    "print(Transport2.shape)\n",
    "print(Transport3.shape)\n",
    "print(General.shape)\n",
    "print(Primary.shape)\n",
    "print(Secondary.shape)\n",
    "print(University.shape)\n",
    "print(Localhealth.shape)\n",
    "print(Hospitals.shape)\n",
    "print(Utility.shape)"
   ]
  },
  {
   "cell_type": "code",
   "execution_count": 111,
   "id": "26a41354",
   "metadata": {},
   "outputs": [
    {
     "name": "stdout",
     "output_type": "stream",
     "text": [
      "<class 'pandas.core.frame.DataFrame'>\n",
      "RangeIndex: 371 entries, 0 to 370\n",
      "Data columns (total 11 columns):\n",
      " #   Column                     Non-Null Count  Dtype  \n",
      "---  ------                     --------------  -----  \n",
      " 0   LA Code (2019 boundaries)  371 non-null    object \n",
      " 1   Shape_Leng                 371 non-null    float64\n",
      " 2   Shape_Area                 371 non-null    float64\n",
      " 3   Shape_Leng_x               371 non-null    float64\n",
      " 4   Shape_Area_x               371 non-null    float64\n",
      " 5   Long                       371 non-null    float64\n",
      " 6   Lat                        371 non-null    float64\n",
      " 7   Value                      371 non-null    float64\n",
      " 8   FutureValue                371 non-null    float64\n",
      " 9   PastValue                  371 non-null    float64\n",
      " 10  All Ages                   371 non-null    int64  \n",
      "dtypes: float64(9), int64(1), object(1)\n",
      "memory usage: 32.0+ KB\n"
     ]
    }
   ],
   "source": [
    "Localhealth.info()"
   ]
  },
  {
   "cell_type": "code",
   "execution_count": 112,
   "id": "790db4e2",
   "metadata": {},
   "outputs": [],
   "source": [
    "#Redistributing value back to LSOA level - need to be merged ON the geography it needs to be redistributed to!\n",
    "Transport1spending = Transport1spending.merge(Transport1, left_on='LA Code (2019 boundaries)', right_on='LA Code (2019 boundaries)')\n",
    "Transport2spending = Transport2spending.merge(Transport2, left_on='NUTS2 Name', right_on='NUTS2 Name')\n",
    "Transport3spending = Transport3spending.merge(Transport3, left_on='NUTS1 Name', right_on='NUTS1 Name')\n",
    "Generalspending = Generalspending.merge(General, left_on='LA Code (2019 boundaries)', right_on='LA Code (2019 boundaries)')\n",
    "Primaryspending = Primaryspending.merge(Primary, left_on='LA Code (2019 boundaries)', right_on='LA Code (2019 boundaries)')\n",
    "Secondaryspending = Secondaryspending.merge(Secondary, left_on='LA Code (2019 boundaries)', right_on='LA Code (2019 boundaries)')\n",
    "Universityspending = Universityspending.merge(University, left_on='NUTS2 Name', right_on='NUTS2 Name')\n",
    "Localhealthspending = Localhealthspending.merge(Localhealth, left_on='LA Code (2019 boundaries)', right_on='LA Code (2019 boundaries)')\n",
    "Hospitalsspending = Hospitalsspending.merge(Hospitals, left_on='LA Code (2019 boundaries)', right_on='LA Code (2019 boundaries)')\n",
    "Utilityspending = Utilityspending.merge(Utility, left_on='LA Code (2019 boundaries)', right_on='LA Code (2019 boundaries)')"
   ]
  },
  {
   "cell_type": "code",
   "execution_count": 113,
   "id": "53e70064",
   "metadata": {},
   "outputs": [
    {
     "name": "stdout",
     "output_type": "stream",
     "text": [
      "(41729, 39)\n",
      "(41729, 39)\n",
      "(41729, 39)\n",
      "(41729, 39)\n",
      "(41729, 39)\n",
      "(41729, 39)\n",
      "(41729, 39)\n",
      "(41729, 39)\n",
      "(41729, 39)\n",
      "(41729, 39)\n"
     ]
    }
   ],
   "source": [
    "#check shapes of each spending dataframe - they should all represent all LSOAs\n",
    "print(Transport1spending.shape)\n",
    "print(Transport2spending.shape)\n",
    "print(Transport3spending.shape)\n",
    "print(Generalspending.shape)\n",
    "print(Primaryspending.shape)\n",
    "print(Secondaryspending.shape)\n",
    "print(Universityspending.shape)\n",
    "print(Localhealthspending.shape)\n",
    "print(Hospitalsspending.shape)\n",
    "print(Utilityspending.shape)"
   ]
  },
  {
   "cell_type": "code",
   "execution_count": 114,
   "id": "d7d8e7cd",
   "metadata": {},
   "outputs": [],
   "source": [
    "#Tidying up\n",
    "\n",
    "#remove duplicate columns\n",
    "\n",
    "columns = ['Name_x', 'Name_y', 'geometry_x', 'Shape_Area_x', 'Shape_Leng_x', \n",
    "           'Lat_x', 'Long_x', 'Shape_Leng_x_x', 'Shape_Area_x_x', 'Shape_Leng_x_y', \n",
    "           'Value_x', 'Value_y', 'Shape_Area_x_y', 'All Ages_x', 'County Code', 'County Name',\n",
    "          'Region Code', 'Region Name', 'NUTS1 Code', 'NUTS2 Code', 'NUTS3 Code']\n",
    "\n",
    "Transport1spending.drop(columns, axis=1, inplace = True)\n",
    "Transport2spending.drop(columns, axis = 1, inplace = True)\n",
    "Transport3spending.drop(columns, axis = 1, inplace = True)\n",
    "Generalspending.drop(columns, axis = 1, inplace = True)\n",
    "Primaryspending.drop(columns, axis = 1, inplace = True)\n",
    "Secondaryspending.drop(columns, axis = 1, inplace = True)\n",
    "Universityspending.drop(columns, axis = 1, inplace = True)\n",
    "Localhealthspending.drop(columns, axis = 1, inplace = True)\n",
    "Hospitalsspending.drop(columns, axis = 1, inplace = True)\n",
    "Utilityspending.drop(columns, axis = 1, inplace = True)\n",
    "\n",
    "#renaming columns\n",
    "Transport1spending.rename(columns = {'geometry_y':'geometry', 'FutureValue_x':'FutureValueLSOA',\n",
    "                                  'FutureValue_y':'FutureValueSAB', 'PastValue_x':'PastValueLSOA',\n",
    "                                 'PastValue_y' : 'PastValueSAB', 'All Ages_y':'Populations'}, inplace = True)\n",
    "Transport2spending.rename(columns = {'geometry_y':'geometry', 'FutureValue_x':'FutureValueLSOA',\n",
    "                                  'FutureValue_y':'FutureValueSAB', 'PastValue_x':'PastValueLSOA',\n",
    "                                 'PastValue_y' : 'PastValueSAB', 'All Ages_y':'Populations'}, inplace = True)\n",
    "Transport3spending.rename(columns = {'geometry_y':'geometry', 'FutureValue_x':'FutureValueLSOA',\n",
    "                                  'FutureValue_y':'FutureValueSAB', 'PastValue_x':'PastValueLSOA',\n",
    "                                 'PastValue_y' : 'PastValueSAB', 'All Ages_y':'Populations'}, inplace = True)\n",
    "Generalspending.rename(columns = {'geometry_y':'geometry', 'FutureValue_x':'FutureValueLSOA',\n",
    "                                  'FutureValue_y':'FutureValueSAB', 'PastValue_x':'PastValueLSOA',\n",
    "                                 'PastValue_y' : 'PastValueSAB', 'All Ages_y':'Populations'}, inplace = True)\n",
    "Primaryspending.rename(columns = {'geometry_y':'geometry', 'FutureValue_x':'FutureValueLSOA',\n",
    "                                  'FutureValue_y':'FutureValueSAB', 'PastValue_x':'PastValueLSOA',\n",
    "                                 'PastValue_y' : 'PastValueSAB', 'All Ages_y':'Populations'}, inplace = True)\n",
    "Secondaryspending.rename(columns = {'geometry_y':'geometry', 'FutureValue_x':'FutureValueLSOA',\n",
    "                                  'FutureValue_y':'FutureValueSAB', 'PastValue_x':'PastValueLSOA',\n",
    "                                 'PastValue_y' : 'PastValueSAB', 'All Ages_y':'Populations'}, inplace = True)\n",
    "Universityspending.rename(columns = {'geometry_y':'geometry', 'FutureValue_x':'FutureValueLSOA',\n",
    "                                  'FutureValue_y':'FutureValueSAB', 'PastValue_x':'PastValueLSOA',\n",
    "                                 'PastValue_y' : 'PastValueSAB', 'All Ages_y':'Populations'}, inplace = True)\n",
    "Localhealthspending.rename(columns = {'geometry_y':'geometry', 'FutureValue_x':'FutureValueLSOA',\n",
    "                                  'FutureValue_y':'FutureValueSAB', 'PastValue_x':'PastValueLSOA',\n",
    "                                 'PastValue_y' : 'PastValueSAB', 'All Ages_y':'Populations'}, inplace = True)\n",
    "Hospitalsspending.rename(columns = {'geometry_y':'geometry', 'FutureValue_x':'FutureValueLSOA',\n",
    "                                  'FutureValue_y':'FutureValueSAB', 'PastValue_x':'PastValueLSOA',\n",
    "                                 'PastValue_y' : 'PastValueSAB', 'All Ages_y':'Populations'}, inplace = True)\n",
    "Utilityspending.rename(columns = {'geometry_y':'geometry', 'FutureValue_x':'FutureValueLSOA',\n",
    "                                  'FutureValue_y':'FutureValueSAB', 'PastValue_x':'PastValueLSOA',\n",
    "                                 'PastValue_y' : 'PastValueSAB', 'All Ages_y':'Populations'}, inplace = True)"
   ]
  },
  {
   "cell_type": "code",
   "execution_count": 115,
   "id": "8097b6d5",
   "metadata": {},
   "outputs": [
    {
     "name": "stdout",
     "output_type": "stream",
     "text": [
      "<class 'pandas.core.frame.DataFrame'>\n",
      "Int64Index: 41729 entries, 0 to 41728\n",
      "Data columns (total 18 columns):\n",
      " #   Column                     Non-Null Count  Dtype   \n",
      "---  ------                     --------------  -----   \n",
      " 0   Code                       41729 non-null  object  \n",
      " 1   geometry                   41729 non-null  geometry\n",
      " 2   FutureValueLSOA            41729 non-null  float64 \n",
      " 3   PastValueLSOA              41729 non-null  float64 \n",
      " 4   LSOA Code                  41729 non-null  object  \n",
      " 5   LSOA Name                  41729 non-null  object  \n",
      " 6   LA Code (2019 boundaries)  41729 non-null  object  \n",
      " 7   LA name (2019 boundaries)  41729 non-null  object  \n",
      " 8   NUTS3 Name                 41277 non-null  object  \n",
      " 9   NUTS2 Name                 41729 non-null  object  \n",
      " 10  NUTS1 Name                 41729 non-null  object  \n",
      " 11  Shape_Leng_y               41729 non-null  float64 \n",
      " 12  Shape_Area_y               41729 non-null  float64 \n",
      " 13  Long_y                     41729 non-null  float64 \n",
      " 14  Lat_y                      41729 non-null  float64 \n",
      " 15  FutureValueSAB             41729 non-null  float64 \n",
      " 16  PastValueSAB               41729 non-null  float64 \n",
      " 17  Populations                41729 non-null  int64   \n",
      "dtypes: float64(8), geometry(1), int64(1), object(8)\n",
      "memory usage: 6.0+ MB\n"
     ]
    }
   ],
   "source": [
    "Transport1spending.info()"
   ]
  },
  {
   "cell_type": "markdown",
   "id": "837107a2",
   "metadata": {},
   "source": [
    "## Exporting Data"
   ]
  },
  {
   "cell_type": "code",
   "execution_count": 117,
   "id": "bc6e41cf",
   "metadata": {},
   "outputs": [],
   "source": [
    "#Hospitalsspending.to_csv('hospitalscheck.csv')\n",
    "\n",
    "Transport1spending.to_csv('ExportedData/Transport1-exported.csv')\n",
    "Transport2spending.to_csv('ExportedData/Transport2-exported.csv')\n",
    "Transport3spending.to_csv('ExportedData/Transport3-exported.csv')\n",
    "Generalspending.to_csv('ExportedData/General-exported.csv')\n",
    "Primaryspending.to_csv('ExportedData/Primary-exported.csv')\n",
    "Secondaryspending.to_csv('ExportedData/Secondary-exported.csv')\n",
    "Universityspending.to_csv('ExportedData/University-exported.csv')\n",
    "Localhealthspending.to_csv('ExportedData/Localhealth-exported.csv')\n",
    "Hospitalsspending.to_csv('ExportedData/Hospitals-exported.csv')\n",
    "Utilityspending.to_csv('ExportedData/Utility-exported.csv')\n"
   ]
  },
  {
   "cell_type": "markdown",
   "id": "9cbf86a5",
   "metadata": {},
   "source": [
    "## Infrastructure Data Exploratory Analysis"
   ]
  },
  {
   "cell_type": "markdown",
   "id": "1268f02a",
   "metadata": {},
   "source": [
    "## Value Analysis"
   ]
  },
  {
   "cell_type": "code",
   "execution_count": null,
   "id": "3ee36a6d",
   "metadata": {},
   "outputs": [],
   "source": [
    "# histogram of value of each project\n",
    "\n",
    "plt.style.use('seaborn-white')\n",
    "\n",
    "Values = BABI['Value']\n",
    "\n",
    "plt.hist(Values, alpha=0.5, bins=1000,\n",
    "         histtype='stepfilled', color='steelblue');"
   ]
  },
  {
   "cell_type": "code",
   "execution_count": null,
   "id": "825aeaf6",
   "metadata": {},
   "outputs": [],
   "source": [
    "# density plot of value of project\n",
    "\n",
    "Values = BABI[['Value','Barbour ref']]\n",
    "\n",
    "#sort values\n",
    "Values.sort_values(by=['Value'],ascending=False, inplace=True)\n",
    "Values.reset_index(inplace = True)      #reset index  \n",
    "\n",
    "\n",
    "#create index column\n",
    "Values['index'] = Values.index\n",
    "\n",
    "\n",
    "#summary stats\n",
    "Values.describe()\n"
   ]
  },
  {
   "cell_type": "code",
   "execution_count": null,
   "id": "bce75a3d",
   "metadata": {},
   "outputs": [],
   "source": [
    "#plot the graph with log scale\n",
    "splot = sns.regplot(x=\"index\", y=\"Value\", \n",
    "                    scatter_kws={'alpha':0.15},\n",
    "                    data=Values, fit_reg=False)\n",
    "splot.set(xscale=\"log\")"
   ]
  },
  {
   "cell_type": "code",
   "execution_count": null,
   "id": "443b9645",
   "metadata": {},
   "outputs": [],
   "source": [
    "# proportions of value in each category\n",
    "BABIsector = BABI.groupby(by = 'Primary category').sum()\n",
    "BABIsector.reset_index(inplace = True)\n",
    "\n",
    "#graph of value\n",
    "ax = sns.barplot(y=\"Value\", x= 'Primary category', data=BABIsector,\n",
    "                 palette=\"Blues_d\")\n",
    "ax.set_xticklabels(ax.get_xticklabels(), rotation=90)\n",
    "\n",
    "None"
   ]
  },
  {
   "cell_type": "code",
   "execution_count": null,
   "id": "74930d95",
   "metadata": {},
   "outputs": [],
   "source": [
    "# proportions of value in each ECMR sector\n",
    "BABIsector = BABI.groupby(by = 'ECMR Sector').sum()\n",
    "BABIsector.reset_index(inplace = True)\n",
    "\n",
    "#graph of value\n",
    "ax = sns.barplot(y=\"Value\", x=\"ECMR Sector\", data=BABIsector,\n",
    "                 palette=\"Blues_d\")\n",
    "plt.xticks(rotation=45)\n",
    "\n",
    "None"
   ]
  },
  {
   "cell_type": "code",
   "execution_count": null,
   "id": "05908a84",
   "metadata": {},
   "outputs": [],
   "source": [
    "# proportions of value in each primary sector\n",
    "BABIsector = BABI.groupby(by = 'Primary sector').sum() #overwriting variable for selected sector type\n",
    "BABIsector.reset_index(inplace = True)\n",
    "\n",
    "#graph of value\n",
    "ax = sns.barplot(y=\"Value\", x=\"Primary sector\", data=BABIsector,\n",
    "                 palette=\"Blues_d\")\n",
    "\n",
    "plt.xticks(rotation=90)\n",
    "\n",
    "None"
   ]
  },
  {
   "cell_type": "code",
   "execution_count": null,
   "id": "c6440bd6",
   "metadata": {
    "scrolled": true
   },
   "outputs": [],
   "source": [
    "#map the sectors\n",
    "ax = BABIgdflsoas.plot(column='Primary sector', markersize=0.5, alpha=0.5, figsize=(10,8))\n",
    "lsoas.plot(ax=ax, edgecolor='r', facecolor='None', alpha=0);\n",
    "#add legend"
   ]
  },
  {
   "cell_type": "code",
   "execution_count": null,
   "id": "f99817aa",
   "metadata": {
    "scrolled": true
   },
   "outputs": [],
   "source": [
    "#map the sectors\n",
    "#BABIgdflsoas.plot(column='Value', cmap = 'plasma', scheme ='FisherJenks', markersize=0.5, alpha=0.5, legend=True, figsize=(10,8));"
   ]
  },
  {
   "cell_type": "code",
   "execution_count": null,
   "id": "d132b7aa",
   "metadata": {
    "scrolled": true
   },
   "outputs": [],
   "source": [
    "#map the sectors\n",
    "spending.plot(column='Value', cmap = 'plasma', scheme ='FisherJenks', markersize=0.5, alpha=0.5, legend=True, figsize=(10,8));"
   ]
  },
  {
   "cell_type": "code",
   "execution_count": null,
   "id": "56708c57",
   "metadata": {
    "scrolled": false
   },
   "outputs": [],
   "source": [
    "sns.set_theme(style=\"ticks\")\n",
    "g = sns.JointGrid(data=BABI, y='Value', x='Start Year', marginal_ticks=True)\n",
    "\n",
    "\n",
    "# Create an inset legend for the histogram colorbar\n",
    "cax = g.fig.add_axes([.15, .55, .02, .2])\n",
    "\n",
    "# Add the joint and marginal histogram plots\n",
    "g.plot_joint(\n",
    "    sns.histplot, discrete=(True, False),\n",
    "    cmap=\"light:#03012d\", pmax=.8, cbar=True, cbar_ax=cax\n",
    ")\n",
    "g.plot_marginals(sns.histplot, element=\"step\", color=\"#03012d\")"
   ]
  },
  {
   "cell_type": "markdown",
   "id": "a0b559a5",
   "metadata": {},
   "source": [
    "## Considering Relationships between Economic and Social Metrics"
   ]
  },
  {
   "cell_type": "code",
   "execution_count": null,
   "id": "8e246273",
   "metadata": {},
   "outputs": [],
   "source": [
    "sns.set_style(\"whitegrid\")\n",
    "#sns.set(font_scale = 1.3)\n",
    "ax = sns.jointplot(y='AHAH', x = 'IMD Rank', data=df, kind='reg', height=12)\n",
    "ax.set_axis_labels(ylabel='AHAH', xlabel='IMD', fontsize=16)\n",
    "plt.show()"
   ]
  },
  {
   "cell_type": "code",
   "execution_count": null,
   "id": "ba938e9a",
   "metadata": {
    "scrolled": false
   },
   "outputs": [],
   "source": [
    "sns.set_style(\"whitegrid\")\n",
    "#sns.set(font_scale = 1.3)\n",
    "ax = sns.jointplot(y='AHAH', x = 'GDP2019LSOA', data=df, kind='reg', height=12)\n",
    "ax.set_axis_labels(ylabel='AHAH', xlabel='GDP', fontsize=16)\n",
    "plt.show()"
   ]
  },
  {
   "cell_type": "code",
   "execution_count": null,
   "id": "489230fe",
   "metadata": {},
   "outputs": [],
   "source": [
    "sns.set_style(\"whitegrid\")\n",
    "#sns.set(font_scale = 1.3)\n",
    "ax = sns.jointplot(y='AHAH', x = 'GVA2016LSOA', data=df, kind='reg', height=12)\n",
    "ax.set_axis_labels(ylabel='AHAH', xlabel='GVA', fontsize=16)\n",
    "plt.show()"
   ]
  },
  {
   "cell_type": "code",
   "execution_count": null,
   "id": "c205c29c",
   "metadata": {},
   "outputs": [],
   "source": [
    "sns.set_style(\"whitegrid\")\n",
    "#sns.set(font_scale = 1.3)\n",
    "ax = sns.jointplot(y='IMD Rank', x = 'GDP2019LSOA', data=df, kind='reg', height=12)\n",
    "ax.set_axis_labels(ylabel='IMD', xlabel='GDP', fontsize=16)\n",
    "plt.show()"
   ]
  },
  {
   "cell_type": "code",
   "execution_count": null,
   "id": "4daf8d3a",
   "metadata": {},
   "outputs": [],
   "source": [
    "sns.set_style(\"whitegrid\")\n",
    "#sns.set(font_scale = 1.3)\n",
    "ax = sns.jointplot(y='IMD Rank', x = 'GVA2016LSOA', data=df, kind='reg', height=12)\n",
    "ax.set_axis_labels(ylabel='IMD', xlabel='GVA', fontsize=16)\n",
    "plt.show()"
   ]
  },
  {
   "cell_type": "markdown",
   "id": "f4de8a0e",
   "metadata": {},
   "source": [
    "## Considering Relationships Between Economic and Social Metrics"
   ]
  },
  {
   "cell_type": "code",
   "execution_count": null,
   "id": "dcebf231",
   "metadata": {
    "scrolled": true
   },
   "outputs": [],
   "source": [
    "spending.head()"
   ]
  },
  {
   "cell_type": "code",
   "execution_count": null,
   "id": "37df9e23",
   "metadata": {},
   "outputs": [],
   "source": [
    "#merge spending with economic variables\n",
    "alldata = gdf.merge(spending, how = 'left', on = 'Code')\n",
    "alldata.head()"
   ]
  },
  {
   "cell_type": "code",
   "execution_count": null,
   "id": "517c421f",
   "metadata": {},
   "outputs": [],
   "source": [
    "sns.set_style(\"whitegrid\")\n",
    "#sns.set(font_scale = 1.3)\n",
    "ax = sns.jointplot(y='IMD Rank', x = 'Value', data=alldata, kind='reg', height=12)\n",
    "ax.set_axis_labels(ylabel='IMD', xlabel='Value', fontsize=16)\n",
    "plt.show()"
   ]
  },
  {
   "cell_type": "code",
   "execution_count": null,
   "id": "6cd8eeac",
   "metadata": {},
   "outputs": [],
   "source": [
    "sns.set_style(\"whitegrid\")\n",
    "#sns.set(font_scale = 1.3)\n",
    "ax = sns.jointplot(y='AHAH', x = 'Value', data=alldata, kind='reg', height=12)\n",
    "ax.set_axis_labels(ylabel='AHAH', xlabel='Value', fontsize=16)\n",
    "plt.show()"
   ]
  },
  {
   "cell_type": "code",
   "execution_count": null,
   "id": "8fa67c61",
   "metadata": {},
   "outputs": [],
   "source": [
    "sns.set_style(\"whitegrid\")\n",
    "#sns.set(font_scale = 1.3)\n",
    "ax = sns.jointplot(y='GVA2016LSOA', x = 'Value', data=alldata, kind='reg', height=12)\n",
    "ax.set_axis_labels(ylabel='IMD', xlabel='Value', fontsize=16)\n",
    "plt.show()"
   ]
  },
  {
   "cell_type": "code",
   "execution_count": null,
   "id": "6ed5296a",
   "metadata": {},
   "outputs": [],
   "source": [
    "sns.set_style(\"whitegrid\")\n",
    "#sns.set(font_scale = 1.3)\n",
    "ax = sns.jointplot(y='GDP2019LSOA', x = 'Value', data=alldata, kind='reg', height=12)\n",
    "ax.set_axis_labels(ylabel='IMD', xlabel='Value', fontsize=16)\n",
    "plt.show()"
   ]
  },
  {
   "cell_type": "markdown",
   "id": "709b830f",
   "metadata": {},
   "source": []
  }
 ],
 "metadata": {
  "kernelspec": {
   "display_name": "Python 3",
   "language": "python",
   "name": "python3"
  },
  "language_info": {
   "codemirror_mode": {
    "name": "ipython",
    "version": 3
   },
   "file_extension": ".py",
   "mimetype": "text/x-python",
   "name": "python",
   "nbconvert_exporter": "python",
   "pygments_lexer": "ipython3",
   "version": "3.7.9"
  }
 },
 "nbformat": 4,
 "nbformat_minor": 5
}
